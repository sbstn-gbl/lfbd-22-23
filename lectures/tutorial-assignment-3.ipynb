{
 "cells": [
  {
   "cell_type": "markdown",
   "id": "cca9b0e7-98e6-4861-97da-0032f358b8d4",
   "metadata": {},
   "source": [
    "# Tutorial Assignment 3"
   ]
  },
  {
   "cell_type": "code",
   "execution_count": 1,
   "id": "6f963d8c-0e3d-4a73-bec9-20d45260308d",
   "metadata": {},
   "outputs": [],
   "source": [
    "import os\n",
    "\n",
    "import common\n",
    "import gensim  # word2vec (very similar to our product2vec model)\n",
    "import matplotlib  # plot final map\n",
    "import numpy as np\n",
    "import p2vmap\n",
    "import pandas as pd\n",
    "import sklearn.manifold  # t-SNE (last step of p2v-map)\n",
    "import torch  # NN -> our own P2V model\n",
    "import torch.nn\n",
    "import torch.nn.functional\n",
    "\n",
    "matplotlib.rcParams[\"image.cmap\"] = \"jet\""
   ]
  },
  {
   "cell_type": "markdown",
   "id": "c4d3c345-bb27-4f77-9d8d-60ea826fa862",
   "metadata": {},
   "source": [
    "## Input"
   ]
  },
  {
   "cell_type": "code",
   "execution_count": 2,
   "id": "6b39d5b6-d85d-462f-ac49-869ccf9829c6",
   "metadata": {},
   "outputs": [],
   "source": [
    "# the path that contains the data\n",
    "path = os.path.expandvars(\"~/Dropbox/teaching/big-data/data/dr-g/upload\")"
   ]
  },
  {
   "cell_type": "code",
   "execution_count": 3,
   "id": "51312e5c-14f9-40e6-8203-d7dc995f5464",
   "metadata": {},
   "outputs": [],
   "source": [
    "# Not known in reality!\n",
    "# In reality we typically have access to the retailer's categories, but not the real categories\n",
    "product = pd.DataFrame(\n",
    "    {\n",
    "        \"product\": list(range(300)),\n",
    "        \"category\": np.repeat(range(20), 15),\n",
    "    }\n",
    ")"
   ]
  },
  {
   "cell_type": "markdown",
   "id": "cd3a9195-ac58-4098-a186-d53218fbe629",
   "metadata": {},
   "source": [
    "<br>\n",
    "<br>\n",
    "\n",
    "## Load configs and data"
   ]
  },
  {
   "cell_type": "code",
   "execution_count": 4,
   "id": "e565da01-8ba9-4280-802a-261532caa16c",
   "metadata": {},
   "outputs": [
    {
     "data": {
      "text/plain": [
       "{'baskets_df_to_list': {'min_basket_size': 3,\n",
       "  'shuffle': True,\n",
       "  'to_string': True,\n",
       "  'seed': 123},\n",
       " 'Word2Vec': {'vector_size': 25,\n",
       "  'window': 1000,\n",
       "  'min_count': 1,\n",
       "  'alpha': 0.025,\n",
       "  'min_alpha': 0.0001,\n",
       "  'sample': 0.001,\n",
       "  'sg': 1,\n",
       "  'negative': 10,\n",
       "  'epochs': 3},\n",
       " 'TSNE': {'n_components': 2,\n",
       "  'n_iter': 4000,\n",
       "  'perplexity': 5,\n",
       "  'init': 'pca',\n",
       "  'angle': 0.5,\n",
       "  'random_state': 123,\n",
       "  'verbose': 0}}"
      ]
     },
     "execution_count": 4,
     "metadata": {},
     "output_type": "execute_result"
    }
   ],
   "source": [
    "config_w2v = common.read_yaml(\"config-w2v.yaml\")\n",
    "config_w2v"
   ]
  },
  {
   "cell_type": "code",
   "execution_count": 5,
   "id": "670121c3-9011-4cee-9592-6c4e4fd7106f",
   "metadata": {},
   "outputs": [
    {
     "data": {
      "text/plain": [
       "{'trainer': {'epochs': 10},\n",
       " 'p2v': {'size': 25},\n",
       " 'data': {'data_streamer': {'variable_basket': 'basket',\n",
       "   'variable_product': 'product',\n",
       "   'batch_size': 8192,\n",
       "   'n_negative_samples': 10,\n",
       "   'power': 0.75,\n",
       "   'shuffle': False,\n",
       "   'allow_context_collisions': False},\n",
       "  'split': {'test_size': 0.05},\n",
       "  'train': {'batch_size': 1024, 'shuffle': True, 'drop_last': True},\n",
       "  'valid': {'batch_size': 4096, 'shuffle': False, 'drop_last': False},\n",
       "  'test': {'batch_size': 4096, 'shuffle': False, 'drop_last': False}}}"
      ]
     },
     "execution_count": 5,
     "metadata": {},
     "output_type": "execute_result"
    }
   ],
   "source": [
    "config_p2vmap = common.read_yaml(\"config-p2vmap.yaml\")\n",
    "config_p2vmap"
   ]
  },
  {
   "cell_type": "code",
   "execution_count": 6,
   "id": "caab94cf-2824-4714-adf3-a014a87f1b6f",
   "metadata": {},
   "outputs": [
    {
     "data": {
      "text/html": [
       "<div>\n",
       "<style scoped>\n",
       "    .dataframe tbody tr th:only-of-type {\n",
       "        vertical-align: middle;\n",
       "    }\n",
       "\n",
       "    .dataframe tbody tr th {\n",
       "        vertical-align: top;\n",
       "    }\n",
       "\n",
       "    .dataframe thead th {\n",
       "        text-align: right;\n",
       "    }\n",
       "</style>\n",
       "<table border=\"1\" class=\"dataframe\">\n",
       "  <thead>\n",
       "    <tr style=\"text-align: right;\">\n",
       "      <th></th>\n",
       "      <th>product</th>\n",
       "      <th>basket</th>\n",
       "    </tr>\n",
       "  </thead>\n",
       "  <tbody>\n",
       "    <tr>\n",
       "      <th>0</th>\n",
       "      <td>51</td>\n",
       "      <td>00000000</td>\n",
       "    </tr>\n",
       "    <tr>\n",
       "      <th>1</th>\n",
       "      <td>113</td>\n",
       "      <td>00000000</td>\n",
       "    </tr>\n",
       "    <tr>\n",
       "      <th>2</th>\n",
       "      <td>154</td>\n",
       "      <td>00000000</td>\n",
       "    </tr>\n",
       "    <tr>\n",
       "      <th>3</th>\n",
       "      <td>165</td>\n",
       "      <td>00000000</td>\n",
       "    </tr>\n",
       "    <tr>\n",
       "      <th>4</th>\n",
       "      <td>185</td>\n",
       "      <td>00000000</td>\n",
       "    </tr>\n",
       "  </tbody>\n",
       "</table>\n",
       "</div>"
      ],
      "text/plain": [
       "   product    basket\n",
       "0       51  00000000\n",
       "1      113  00000000\n",
       "2      154  00000000\n",
       "3      165  00000000\n",
       "4      185  00000000"
      ]
     },
     "execution_count": 6,
     "metadata": {},
     "output_type": "execute_result"
    }
   ],
   "source": [
    "baskets = pd.read_parquet(f\"{path}/market-baskets.parquet\")\n",
    "del baskets[\"customer\"]\n",
    "baskets.head()"
   ]
  },
  {
   "cell_type": "markdown",
   "id": "04d878dd-b702-493f-9ae2-9ae405ec959e",
   "metadata": {},
   "source": [
    "<br>\n",
    "<br>\n",
    "\n",
    "## P2V-MAP based on `gensim`\n",
    "\n",
    "### Produce basket list"
   ]
  },
  {
   "cell_type": "code",
   "execution_count": 7,
   "id": "bdb10fe3-ef7c-4f7f-849f-51e45d2ca8fa",
   "metadata": {},
   "outputs": [
    {
     "data": {
      "text/html": [
       "<div>\n",
       "<style scoped>\n",
       "    .dataframe tbody tr th:only-of-type {\n",
       "        vertical-align: middle;\n",
       "    }\n",
       "\n",
       "    .dataframe tbody tr th {\n",
       "        vertical-align: top;\n",
       "    }\n",
       "\n",
       "    .dataframe thead th {\n",
       "        text-align: right;\n",
       "    }\n",
       "</style>\n",
       "<table border=\"1\" class=\"dataframe\">\n",
       "  <thead>\n",
       "    <tr style=\"text-align: right;\">\n",
       "      <th></th>\n",
       "      <th>product</th>\n",
       "      <th>basket</th>\n",
       "    </tr>\n",
       "  </thead>\n",
       "  <tbody>\n",
       "    <tr>\n",
       "      <th>0</th>\n",
       "      <td>51</td>\n",
       "      <td>00000000</td>\n",
       "    </tr>\n",
       "    <tr>\n",
       "      <th>1</th>\n",
       "      <td>113</td>\n",
       "      <td>00000000</td>\n",
       "    </tr>\n",
       "    <tr>\n",
       "      <th>2</th>\n",
       "      <td>154</td>\n",
       "      <td>00000000</td>\n",
       "    </tr>\n",
       "    <tr>\n",
       "      <th>3</th>\n",
       "      <td>165</td>\n",
       "      <td>00000000</td>\n",
       "    </tr>\n",
       "    <tr>\n",
       "      <th>4</th>\n",
       "      <td>185</td>\n",
       "      <td>00000000</td>\n",
       "    </tr>\n",
       "  </tbody>\n",
       "</table>\n",
       "</div>"
      ],
      "text/plain": [
       "   product    basket\n",
       "0       51  00000000\n",
       "1      113  00000000\n",
       "2      154  00000000\n",
       "3      165  00000000\n",
       "4      185  00000000"
      ]
     },
     "execution_count": 7,
     "metadata": {},
     "output_type": "execute_result"
    }
   ],
   "source": [
    "baskets.head()"
   ]
  },
  {
   "cell_type": "code",
   "execution_count": 8,
   "id": "d9b6c4c2-9546-4457-ad72-825a5e11c40c",
   "metadata": {},
   "outputs": [
    {
     "data": {
      "text/plain": [
       "{'min_basket_size': 3, 'shuffle': True, 'to_string': True, 'seed': 123}"
      ]
     },
     "execution_count": 8,
     "metadata": {},
     "output_type": "execute_result"
    }
   ],
   "source": [
    "config_w2v[\"baskets_df_to_list\"]"
   ]
  },
  {
   "cell_type": "code",
   "execution_count": 9,
   "id": "67f2f0a5-5c9a-4fc2-9223-3d07099b7b01",
   "metadata": {},
   "outputs": [
    {
     "data": {
      "text/plain": [
       "[['198', '219', '102', '136', '191', '228', '174', '32', '162', '4', '270'],\n",
       " ['159', '106', '19', '136']]"
      ]
     },
     "execution_count": 9,
     "metadata": {},
     "output_type": "execute_result"
    }
   ],
   "source": [
    "# we only keep the first 1M rows\n",
    "basket_list = p2vmap.baskets_df_to_list(\n",
    "    x=baskets.head(1_000_000), **config_w2v[\"baskets_df_to_list\"]\n",
    ")\n",
    "basket_list[:2]"
   ]
  },
  {
   "cell_type": "code",
   "execution_count": 10,
   "id": "63284fd3-b900-42af-a03d-ef69c9fc90d0",
   "metadata": {},
   "outputs": [
    {
     "data": {
      "text/plain": [
       "990932"
      ]
     },
     "execution_count": 10,
     "metadata": {},
     "output_type": "execute_result"
    }
   ],
   "source": [
    "# less than 1M purchases, we skip baskets with less than 3 products\n",
    "sum([len(b) for b in basket_list])"
   ]
  },
  {
   "cell_type": "code",
   "execution_count": 11,
   "id": "0b83f135-7c2d-47e9-97dc-34ee87bee8b1",
   "metadata": {},
   "outputs": [
    {
     "data": {
      "text/plain": [
       "156778"
      ]
     },
     "execution_count": 11,
     "metadata": {},
     "output_type": "execute_result"
    }
   ],
   "source": [
    "# number of baskets\n",
    "len(basket_list)"
   ]
  },
  {
   "cell_type": "markdown",
   "id": "7219aa4a-d0ac-47c3-b1c1-2bea1468f5f3",
   "metadata": {},
   "source": [
    "### Word2Vec model"
   ]
  },
  {
   "cell_type": "code",
   "execution_count": 12,
   "id": "c742b087-7310-4f46-8fa5-4458cb1f0a65",
   "metadata": {},
   "outputs": [],
   "source": [
    "# p2v: which products (co-)occur in a shopping basket\n",
    "# w2v: which words (co-)occur in a sentence\n",
    "#\n",
    "# this sentence is \"which products (co-)occur in a shopping basket.\"\n",
    "# ------------------- x ------------------------\n",
    "#                   window\n",
    "#\n",
    "# we set window to a very large number to always use all products in a basket\n",
    "w2v = gensim.models.Word2Vec(basket_list, **config_w2v[\"Word2Vec\"])"
   ]
  },
  {
   "cell_type": "code",
   "execution_count": 13,
   "id": "b8ea1987-f5ae-4810-b089-9c34cc9cf183",
   "metadata": {},
   "outputs": [
    {
     "data": {
      "text/plain": [
       "{'vector_size': 25,\n",
       " 'window': 1000,\n",
       " 'min_count': 1,\n",
       " 'alpha': 0.025,\n",
       " 'min_alpha': 0.0001,\n",
       " 'sample': 0.001,\n",
       " 'sg': 1,\n",
       " 'negative': 10,\n",
       " 'epochs': 3}"
      ]
     },
     "execution_count": 13,
     "metadata": {},
     "output_type": "execute_result"
    }
   ],
   "source": [
    "config_w2v[\"Word2Vec\"]\n",
    "# vector size"
   ]
  },
  {
   "cell_type": "code",
   "execution_count": 14,
   "id": "8ce2bb7a-cafe-4a87-850f-0c005543b2e9",
   "metadata": {},
   "outputs": [
    {
     "data": {
      "text/html": [
       "<div>\n",
       "<style scoped>\n",
       "    .dataframe tbody tr th:only-of-type {\n",
       "        vertical-align: middle;\n",
       "    }\n",
       "\n",
       "    .dataframe tbody tr th {\n",
       "        vertical-align: top;\n",
       "    }\n",
       "\n",
       "    .dataframe thead th {\n",
       "        text-align: right;\n",
       "    }\n",
       "</style>\n",
       "<table border=\"1\" class=\"dataframe\">\n",
       "  <thead>\n",
       "    <tr style=\"text-align: right;\">\n",
       "      <th></th>\n",
       "      <th>0</th>\n",
       "      <th>1</th>\n",
       "      <th>2</th>\n",
       "      <th>3</th>\n",
       "      <th>4</th>\n",
       "      <th>5</th>\n",
       "      <th>6</th>\n",
       "      <th>7</th>\n",
       "      <th>8</th>\n",
       "      <th>9</th>\n",
       "      <th>...</th>\n",
       "      <th>15</th>\n",
       "      <th>16</th>\n",
       "      <th>17</th>\n",
       "      <th>18</th>\n",
       "      <th>19</th>\n",
       "      <th>20</th>\n",
       "      <th>21</th>\n",
       "      <th>22</th>\n",
       "      <th>23</th>\n",
       "      <th>24</th>\n",
       "    </tr>\n",
       "    <tr>\n",
       "      <th>product</th>\n",
       "      <th></th>\n",
       "      <th></th>\n",
       "      <th></th>\n",
       "      <th></th>\n",
       "      <th></th>\n",
       "      <th></th>\n",
       "      <th></th>\n",
       "      <th></th>\n",
       "      <th></th>\n",
       "      <th></th>\n",
       "      <th></th>\n",
       "      <th></th>\n",
       "      <th></th>\n",
       "      <th></th>\n",
       "      <th></th>\n",
       "      <th></th>\n",
       "      <th></th>\n",
       "      <th></th>\n",
       "      <th></th>\n",
       "      <th></th>\n",
       "      <th></th>\n",
       "    </tr>\n",
       "  </thead>\n",
       "  <tbody>\n",
       "    <tr>\n",
       "      <th>0</th>\n",
       "      <td>0.698184</td>\n",
       "      <td>-0.267109</td>\n",
       "      <td>-0.268259</td>\n",
       "      <td>-0.283699</td>\n",
       "      <td>-0.035170</td>\n",
       "      <td>-0.320666</td>\n",
       "      <td>0.004873</td>\n",
       "      <td>0.440573</td>\n",
       "      <td>-0.025418</td>\n",
       "      <td>-0.042116</td>\n",
       "      <td>...</td>\n",
       "      <td>0.356835</td>\n",
       "      <td>0.071930</td>\n",
       "      <td>-0.084184</td>\n",
       "      <td>0.124781</td>\n",
       "      <td>0.111691</td>\n",
       "      <td>0.685301</td>\n",
       "      <td>-0.684012</td>\n",
       "      <td>0.772679</td>\n",
       "      <td>-0.358692</td>\n",
       "      <td>-0.049835</td>\n",
       "    </tr>\n",
       "    <tr>\n",
       "      <th>1</th>\n",
       "      <td>0.594313</td>\n",
       "      <td>-0.304166</td>\n",
       "      <td>-0.276320</td>\n",
       "      <td>-0.314553</td>\n",
       "      <td>-0.147924</td>\n",
       "      <td>-0.308384</td>\n",
       "      <td>-0.049042</td>\n",
       "      <td>0.394323</td>\n",
       "      <td>-0.033204</td>\n",
       "      <td>-0.073849</td>\n",
       "      <td>...</td>\n",
       "      <td>0.251013</td>\n",
       "      <td>-0.056435</td>\n",
       "      <td>-0.208138</td>\n",
       "      <td>-0.001414</td>\n",
       "      <td>0.105168</td>\n",
       "      <td>0.758121</td>\n",
       "      <td>-0.609367</td>\n",
       "      <td>0.739802</td>\n",
       "      <td>-0.423855</td>\n",
       "      <td>0.009249</td>\n",
       "    </tr>\n",
       "    <tr>\n",
       "      <th>2</th>\n",
       "      <td>0.702221</td>\n",
       "      <td>-0.348003</td>\n",
       "      <td>-0.305340</td>\n",
       "      <td>-0.328762</td>\n",
       "      <td>0.071340</td>\n",
       "      <td>-0.252438</td>\n",
       "      <td>-0.040859</td>\n",
       "      <td>0.404687</td>\n",
       "      <td>0.004226</td>\n",
       "      <td>-0.094069</td>\n",
       "      <td>...</td>\n",
       "      <td>0.312105</td>\n",
       "      <td>0.129227</td>\n",
       "      <td>-0.130776</td>\n",
       "      <td>0.132844</td>\n",
       "      <td>0.156041</td>\n",
       "      <td>0.724814</td>\n",
       "      <td>-0.625681</td>\n",
       "      <td>0.732117</td>\n",
       "      <td>-0.413212</td>\n",
       "      <td>0.089795</td>\n",
       "    </tr>\n",
       "    <tr>\n",
       "      <th>3</th>\n",
       "      <td>0.644117</td>\n",
       "      <td>-0.319973</td>\n",
       "      <td>-0.315047</td>\n",
       "      <td>-0.232838</td>\n",
       "      <td>-0.161784</td>\n",
       "      <td>-0.314351</td>\n",
       "      <td>-0.089541</td>\n",
       "      <td>0.456876</td>\n",
       "      <td>-0.116067</td>\n",
       "      <td>-0.243799</td>\n",
       "      <td>...</td>\n",
       "      <td>0.127563</td>\n",
       "      <td>0.005860</td>\n",
       "      <td>-0.164511</td>\n",
       "      <td>0.029503</td>\n",
       "      <td>0.094170</td>\n",
       "      <td>0.810089</td>\n",
       "      <td>-0.649962</td>\n",
       "      <td>0.722354</td>\n",
       "      <td>-0.433333</td>\n",
       "      <td>-0.029080</td>\n",
       "    </tr>\n",
       "    <tr>\n",
       "      <th>4</th>\n",
       "      <td>0.724029</td>\n",
       "      <td>-0.212491</td>\n",
       "      <td>-0.327331</td>\n",
       "      <td>-0.276322</td>\n",
       "      <td>-0.081711</td>\n",
       "      <td>-0.328879</td>\n",
       "      <td>0.005359</td>\n",
       "      <td>0.396139</td>\n",
       "      <td>-0.018593</td>\n",
       "      <td>-0.056015</td>\n",
       "      <td>...</td>\n",
       "      <td>0.318120</td>\n",
       "      <td>0.116433</td>\n",
       "      <td>-0.127541</td>\n",
       "      <td>0.083842</td>\n",
       "      <td>0.189018</td>\n",
       "      <td>0.718072</td>\n",
       "      <td>-0.651779</td>\n",
       "      <td>0.824390</td>\n",
       "      <td>-0.384247</td>\n",
       "      <td>-0.037491</td>\n",
       "    </tr>\n",
       "  </tbody>\n",
       "</table>\n",
       "<p>5 rows × 25 columns</p>\n",
       "</div>"
      ],
      "text/plain": [
       "                0         1         2         3         4         5         6  \\\n",
       "product                                                                         \n",
       "0        0.698184 -0.267109 -0.268259 -0.283699 -0.035170 -0.320666  0.004873   \n",
       "1        0.594313 -0.304166 -0.276320 -0.314553 -0.147924 -0.308384 -0.049042   \n",
       "2        0.702221 -0.348003 -0.305340 -0.328762  0.071340 -0.252438 -0.040859   \n",
       "3        0.644117 -0.319973 -0.315047 -0.232838 -0.161784 -0.314351 -0.089541   \n",
       "4        0.724029 -0.212491 -0.327331 -0.276322 -0.081711 -0.328879  0.005359   \n",
       "\n",
       "                7         8         9  ...        15        16        17  \\\n",
       "product                                ...                                 \n",
       "0        0.440573 -0.025418 -0.042116  ...  0.356835  0.071930 -0.084184   \n",
       "1        0.394323 -0.033204 -0.073849  ...  0.251013 -0.056435 -0.208138   \n",
       "2        0.404687  0.004226 -0.094069  ...  0.312105  0.129227 -0.130776   \n",
       "3        0.456876 -0.116067 -0.243799  ...  0.127563  0.005860 -0.164511   \n",
       "4        0.396139 -0.018593 -0.056015  ...  0.318120  0.116433 -0.127541   \n",
       "\n",
       "               18        19        20        21        22        23        24  \n",
       "product                                                                        \n",
       "0        0.124781  0.111691  0.685301 -0.684012  0.772679 -0.358692 -0.049835  \n",
       "1       -0.001414  0.105168  0.758121 -0.609367  0.739802 -0.423855  0.009249  \n",
       "2        0.132844  0.156041  0.724814 -0.625681  0.732117 -0.413212  0.089795  \n",
       "3        0.029503  0.094170  0.810089 -0.649962  0.722354 -0.433333 -0.029080  \n",
       "4        0.083842  0.189018  0.718072 -0.651779  0.824390 -0.384247 -0.037491  \n",
       "\n",
       "[5 rows x 25 columns]"
      ]
     },
     "execution_count": 14,
     "metadata": {},
     "output_type": "execute_result"
    }
   ],
   "source": [
    "product_embedding, _, _ = p2vmap.gensim_to_pandas(w2v)\n",
    "product_embedding.head()"
   ]
  },
  {
   "cell_type": "code",
   "execution_count": 15,
   "id": "ec440e4e-7c01-4005-acd2-27404f0d335f",
   "metadata": {},
   "outputs": [],
   "source": [
    "# each row is a product vector\n",
    "x = product_embedding.values\n",
    "# normalize vectors to unit-length\n",
    "x /= np.linalg.norm(x, axis=1)[:, np.newaxis]"
   ]
  },
  {
   "cell_type": "code",
   "execution_count": 16,
   "id": "7e0e55a3-7cb5-4792-b63d-0cf099127a2a",
   "metadata": {},
   "outputs": [
    {
     "data": {
      "text/plain": [
       "1.0"
      ]
     },
     "execution_count": 16,
     "metadata": {},
     "output_type": "execute_result"
    }
   ],
   "source": [
    "# cosine similarity of product 0 with itself\n",
    "x[0, :].dot(x[0, :])"
   ]
  },
  {
   "cell_type": "code",
   "execution_count": 17,
   "id": "ad260a45-0419-4a0e-a2f8-a0de2ea71c51",
   "metadata": {},
   "outputs": [
    {
     "data": {
      "text/plain": [
       "array([[0.99999994, 0.98062825, 0.98673004, 0.9706218 , 0.9949092 ],\n",
       "       [0.98062825, 1.        , 0.97305375, 0.9855621 , 0.9825565 ],\n",
       "       [0.98673004, 0.97305375, 1.        , 0.9652598 , 0.9849684 ],\n",
       "       [0.9706218 , 0.9855621 , 0.9652598 , 0.99999994, 0.9742485 ],\n",
       "       [0.9949092 , 0.9825565 , 0.9849684 , 0.9742485 , 1.        ]],\n",
       "      dtype=float32)"
      ]
     },
     "execution_count": 17,
     "metadata": {},
     "output_type": "execute_result"
    }
   ],
   "source": [
    "# cosine similarities between the first 5 products\n",
    "x[0:5, :].dot(x[0:5, :].T)"
   ]
  },
  {
   "cell_type": "code",
   "execution_count": 18,
   "id": "14fa1191-3e75-4468-8770-bfaad4bb3401",
   "metadata": {},
   "outputs": [
    {
     "data": {
      "text/plain": [
       "array([[1.  , 0.98, 0.99, 0.97, 0.98, 0.24, 0.25, 0.28, 0.24, 0.23],\n",
       "       [0.98, 1.  , 0.98, 0.98, 0.98, 0.23, 0.25, 0.27, 0.25, 0.21],\n",
       "       [0.99, 0.98, 1.  , 0.96, 0.99, 0.26, 0.27, 0.3 , 0.27, 0.25],\n",
       "       [0.97, 0.98, 0.96, 1.  , 0.97, 0.23, 0.24, 0.26, 0.24, 0.22],\n",
       "       [0.98, 0.98, 0.99, 0.97, 1.  , 0.25, 0.26, 0.29, 0.26, 0.24],\n",
       "       [0.24, 0.23, 0.26, 0.23, 0.25, 1.  , 0.99, 0.99, 0.98, 0.99],\n",
       "       [0.25, 0.25, 0.27, 0.24, 0.26, 0.99, 1.  , 0.99, 0.99, 0.98],\n",
       "       [0.28, 0.27, 0.3 , 0.26, 0.29, 0.99, 0.99, 1.  , 0.98, 0.98],\n",
       "       [0.24, 0.25, 0.27, 0.24, 0.26, 0.98, 0.99, 0.98, 1.  , 0.97],\n",
       "       [0.23, 0.21, 0.25, 0.22, 0.24, 0.99, 0.98, 0.98, 0.97, 1.  ]],\n",
       "      dtype=float32)"
      ]
     },
     "execution_count": 18,
     "metadata": {},
     "output_type": "execute_result"
    }
   ],
   "source": [
    "# cosine similarities between products 10 to 19. note:\n",
    "# - 10-14 and 15-19 are each very similar\n",
    "# - 10-14 are not similar to 15-19\n",
    "np.round(x[10:20, :].dot(x[10:20, :].T), 2)"
   ]
  },
  {
   "cell_type": "markdown",
   "id": "f46dd76a-7001-4ea6-8e69-4214d3c874f1",
   "metadata": {},
   "source": [
    "### Map"
   ]
  },
  {
   "cell_type": "code",
   "execution_count": 19,
   "id": "d129e55f-0921-4548-9d4d-7eb042d8421f",
   "metadata": {},
   "outputs": [],
   "source": [
    "x = product_embedding.values  # pd dataframe -> np array\n",
    "x /= np.linalg.norm(x, axis=1)[:, np.newaxis]  # normalize\n",
    "res_tsne = sklearn.manifold.TSNE(**config_w2v[\"TSNE\"]).fit_transform(\n",
    "    x\n",
    ")  # dimensionality reduction from D (25) -> 2"
   ]
  },
  {
   "cell_type": "code",
   "execution_count": 20,
   "id": "6c876cc7-bde3-4660-9f66-953d7a673ba8",
   "metadata": {},
   "outputs": [],
   "source": [
    "tsne_map_xy = pd.DataFrame(\n",
    "    res_tsne,\n",
    "    index=product[[\"category\", \"product\"]].set_index([\"category\", \"product\"]).index,\n",
    "    columns=[\"x\", \"y\"],\n",
    ").reset_index()"
   ]
  },
  {
   "cell_type": "code",
   "execution_count": 21,
   "id": "99278e3e-fa46-477c-a76c-1d67ba024b2b",
   "metadata": {},
   "outputs": [
    {
     "data": {
      "image/png": "[encoded data removed]",
      "text/plain": [
       "<Figure size 1008x720 with 1 Axes>"
      ]
     },
     "metadata": {},
     "output_type": "display_data"
    }
   ],
   "source": [
    "p2vmap.plot_tsne(tsne_map_xy, plotlabels=True, scatter=10)"
   ]
  },
  {
   "cell_type": "markdown",
   "id": "be30c56a-5e54-4087-a3b3-8ad63a1ce1fa",
   "metadata": {},
   "source": [
    "<br>\n",
    "<br>\n",
    "\n",
    "## Data streamer\n",
    "\n",
    "This is the basis for P2V in torch, we somehow need to \"stream\" our data (as batches) to the neural network.\n",
    "\n",
    "### Data"
   ]
  },
  {
   "cell_type": "code",
   "execution_count": 22,
   "id": "4b8be0b6-57be-4bfe-928e-04f369bd8d6a",
   "metadata": {},
   "outputs": [
    {
     "data": {
      "text/html": [
       "<div>\n",
       "<style scoped>\n",
       "    .dataframe tbody tr th:only-of-type {\n",
       "        vertical-align: middle;\n",
       "    }\n",
       "\n",
       "    .dataframe tbody tr th {\n",
       "        vertical-align: top;\n",
       "    }\n",
       "\n",
       "    .dataframe thead th {\n",
       "        text-align: right;\n",
       "    }\n",
       "</style>\n",
       "<table border=\"1\" class=\"dataframe\">\n",
       "  <thead>\n",
       "    <tr style=\"text-align: right;\">\n",
       "      <th></th>\n",
       "      <th>product</th>\n",
       "      <th>basket</th>\n",
       "    </tr>\n",
       "  </thead>\n",
       "  <tbody>\n",
       "    <tr>\n",
       "      <th>0</th>\n",
       "      <td>51</td>\n",
       "      <td>00000000</td>\n",
       "    </tr>\n",
       "    <tr>\n",
       "      <th>1</th>\n",
       "      <td>113</td>\n",
       "      <td>00000000</td>\n",
       "    </tr>\n",
       "    <tr>\n",
       "      <th>2</th>\n",
       "      <td>154</td>\n",
       "      <td>00000000</td>\n",
       "    </tr>\n",
       "    <tr>\n",
       "      <th>3</th>\n",
       "      <td>165</td>\n",
       "      <td>00000000</td>\n",
       "    </tr>\n",
       "    <tr>\n",
       "      <th>4</th>\n",
       "      <td>185</td>\n",
       "      <td>00000000</td>\n",
       "    </tr>\n",
       "  </tbody>\n",
       "</table>\n",
       "</div>"
      ],
      "text/plain": [
       "   product    basket\n",
       "0       51  00000000\n",
       "1      113  00000000\n",
       "2      154  00000000\n",
       "3      165  00000000\n",
       "4      185  00000000"
      ]
     },
     "execution_count": 22,
     "metadata": {},
     "output_type": "execute_result"
    }
   ],
   "source": [
    "baskets_2 = baskets.copy()\n",
    "baskets_2 = baskets_2.head(1_000)\n",
    "baskets_2 = baskets_2[baskets_2.groupby(\"basket\")[\"product\"].transform(\"nunique\") > 2]\n",
    "baskets_2.head()"
   ]
  },
  {
   "cell_type": "code",
   "execution_count": 23,
   "id": "6437be4a-24a1-4782-b6cd-107b04c24278",
   "metadata": {},
   "outputs": [
    {
     "data": {
      "text/html": [
       "<div>\n",
       "<style scoped>\n",
       "    .dataframe tbody tr th:only-of-type {\n",
       "        vertical-align: middle;\n",
       "    }\n",
       "\n",
       "    .dataframe tbody tr th {\n",
       "        vertical-align: top;\n",
       "    }\n",
       "\n",
       "    .dataframe thead th {\n",
       "        text-align: right;\n",
       "    }\n",
       "</style>\n",
       "<table border=\"1\" class=\"dataframe\">\n",
       "  <thead>\n",
       "    <tr style=\"text-align: right;\">\n",
       "      <th></th>\n",
       "      <th>product</th>\n",
       "      <th>basket</th>\n",
       "    </tr>\n",
       "  </thead>\n",
       "  <tbody>\n",
       "    <tr>\n",
       "      <th>0</th>\n",
       "      <td>51</td>\n",
       "      <td>00000000</td>\n",
       "    </tr>\n",
       "    <tr>\n",
       "      <th>1</th>\n",
       "      <td>113</td>\n",
       "      <td>00000000</td>\n",
       "    </tr>\n",
       "    <tr>\n",
       "      <th>2</th>\n",
       "      <td>154</td>\n",
       "      <td>00000000</td>\n",
       "    </tr>\n",
       "    <tr>\n",
       "      <th>3</th>\n",
       "      <td>165</td>\n",
       "      <td>00000000</td>\n",
       "    </tr>\n",
       "    <tr>\n",
       "      <th>4</th>\n",
       "      <td>185</td>\n",
       "      <td>00000000</td>\n",
       "    </tr>\n",
       "    <tr>\n",
       "      <th>5</th>\n",
       "      <td>253</td>\n",
       "      <td>00000000</td>\n",
       "    </tr>\n",
       "    <tr>\n",
       "      <th>6</th>\n",
       "      <td>266</td>\n",
       "      <td>00000000</td>\n",
       "    </tr>\n",
       "  </tbody>\n",
       "</table>\n",
       "</div>"
      ],
      "text/plain": [
       "   product    basket\n",
       "0       51  00000000\n",
       "1      113  00000000\n",
       "2      154  00000000\n",
       "3      165  00000000\n",
       "4      185  00000000\n",
       "5      253  00000000\n",
       "6      266  00000000"
      ]
     },
     "execution_count": 23,
     "metadata": {},
     "output_type": "execute_result"
    }
   ],
   "source": [
    "baskets_2[baskets_2[\"basket\"] == \"00000000\"]"
   ]
  },
  {
   "cell_type": "markdown",
   "id": "7c297b9a-ef34-4b34-bb9d-580705070fc0",
   "metadata": {},
   "source": [
    "### Initialize streamer"
   ]
  },
  {
   "cell_type": "code",
   "execution_count": 24,
   "id": "c57db5b0-9f98-4af0-b746-ca9d07003f80",
   "metadata": {},
   "outputs": [],
   "source": [
    "data_stream_p2v = p2vmap.DataStreamP2V(\n",
    "    data=baskets_2,\n",
    "    variable_basket=\"basket\",\n",
    "    variable_product=\"product\",\n",
    "    batch_size=4,  # in your implementation, you want higher batch sizes (e.g. 256, 512, 1024)\n",
    "    shuffle=False,  # in your implementation, please shuffle!\n",
    "    n_negative_samples=4,\n",
    ")"
   ]
  },
  {
   "cell_type": "markdown",
   "id": "ab0bbfb3-35a2-4cc6-b0e6-59b0bfc239c9",
   "metadata": {},
   "source": [
    "### Generate one batch"
   ]
  },
  {
   "cell_type": "code",
   "execution_count": 25,
   "id": "4855c80a-9ef3-4509-ae5f-705c5195a42f",
   "metadata": {},
   "outputs": [],
   "source": [
    "center_products, context_products, negative_samples = data_stream_p2v.generate_batch()"
   ]
  },
  {
   "cell_type": "code",
   "execution_count": 26,
   "id": "56ae6e4d-8e2c-4f6d-b1f6-cc9e3af3b07a",
   "metadata": {},
   "outputs": [],
   "source": [
    "# 4: A, B, C, D -> 12 samples\n",
    "#\n",
    "# sample 1: A -- B  --> 1 center product, 1 context product\n",
    "# sample 2: A -- C\n",
    "# sample 3: A -- D\n",
    "# sample 4: B -- A\n",
    "#     ..."
   ]
  },
  {
   "cell_type": "code",
   "execution_count": 27,
   "id": "5f19681b-e0cc-4a13-8578-9a6e0b86f104",
   "metadata": {},
   "outputs": [
    {
     "data": {
      "text/plain": [
       "array([51, 51, 51, 51])"
      ]
     },
     "execution_count": 27,
     "metadata": {},
     "output_type": "execute_result"
    }
   ],
   "source": [
    "# batch_size (x 1)\n",
    "center_products"
   ]
  },
  {
   "cell_type": "code",
   "execution_count": 28,
   "id": "430234a3-d8ab-4ed4-8c37-1d4856ed8da6",
   "metadata": {},
   "outputs": [
    {
     "data": {
      "text/plain": [
       "array([113, 154, 165, 185])"
      ]
     },
     "execution_count": 28,
     "metadata": {},
     "output_type": "execute_result"
    }
   ],
   "source": [
    "# batch_size (x 1)\n",
    "context_products"
   ]
  },
  {
   "cell_type": "code",
   "execution_count": 29,
   "id": "6a118abd-5b96-47f9-8ed5-2ef9bf74e263",
   "metadata": {},
   "outputs": [
    {
     "data": {
      "text/plain": [
       "array([[142,  55, 263,  36],\n",
       "       [ 31,  37,  62, 236],\n",
       "       [114,  38, 226, 119],\n",
       "       [158,  71, 190,  17]], dtype=int32)"
      ]
     },
     "execution_count": 29,
     "metadata": {},
     "output_type": "execute_result"
    }
   ],
   "source": [
    "# batch_size x 4\n",
    "negative_samples"
   ]
  },
  {
   "cell_type": "markdown",
   "id": "bf13d8bf-d5be-4849-9edc-29a71f3e1b23",
   "metadata": {},
   "source": [
    "<br>\n",
    "<br>\n",
    "\n",
    "## PyTorch\n",
    "\n",
    "<img src=\"https://raw.githubusercontent.com/sbstn-gbl/learning-from-big-data/master/source/_static/img/p2v.png\" width=\"700\">\n",
    "\n",
    "### 1) generate indices"
   ]
  },
  {
   "cell_type": "code",
   "execution_count": 30,
   "id": "68b42a26-5d4f-4c28-8987-19edce7e5d15",
   "metadata": {},
   "outputs": [
    {
     "data": {
      "text/plain": [
       "{'variable_basket': 'basket',\n",
       " 'variable_product': 'product',\n",
       " 'batch_size': 8192,\n",
       " 'n_negative_samples': 10,\n",
       " 'power': 0.75,\n",
       " 'shuffle': False,\n",
       " 'allow_context_collisions': False}"
      ]
     },
     "execution_count": 30,
     "metadata": {},
     "output_type": "execute_result"
    }
   ],
   "source": [
    "config_p2vmap[\"data\"][\"data_streamer\"]"
   ]
  },
  {
   "cell_type": "code",
   "execution_count": 31,
   "id": "0dff9de4-e389-4562-879c-c04ff6d411eb",
   "metadata": {},
   "outputs": [],
   "source": [
    "data_stream_p2v = p2vmap.DataStreamP2V(\n",
    "    data=baskets_2, **config_p2vmap[\"data\"][\"data_streamer\"]\n",
    ")"
   ]
  },
  {
   "cell_type": "code",
   "execution_count": 32,
   "id": "07f62e8f-7db3-4638-81fb-44e4815f9ad2",
   "metadata": {},
   "outputs": [
    {
     "data": {
      "text/plain": [
       "{'data_streamer': {'variable_basket': 'basket',\n",
       "  'variable_product': 'product',\n",
       "  'batch_size': 8192,\n",
       "  'n_negative_samples': 10,\n",
       "  'power': 0.75,\n",
       "  'shuffle': False,\n",
       "  'allow_context_collisions': False},\n",
       " 'split': {'test_size': 0.05},\n",
       " 'train': {'batch_size': 1024, 'shuffle': True, 'drop_last': True},\n",
       " 'valid': {'batch_size': 4096, 'shuffle': False, 'drop_last': False},\n",
       " 'test': {'batch_size': 4096, 'shuffle': False, 'drop_last': False}}"
      ]
     },
     "execution_count": 32,
     "metadata": {},
     "output_type": "execute_result"
    }
   ],
   "source": [
    "config_p2vmap[\"data\"]"
   ]
  },
  {
   "cell_type": "code",
   "execution_count": 33,
   "id": "c120b2c7-5863-4485-b5c1-ff753f4f0a9e",
   "metadata": {},
   "outputs": [],
   "source": [
    "# The data streamer was great, it generates our training samples\n",
    "# torch does not use numpy arrays though, but torch tensors.\n",
    "# also, torch offers its own functionality for streaming data, so\n",
    "# we use our streamer to generate all training samples from the\n",
    "# basket data, then put it into a torch data loader.\n",
    "dl_train, dl_validation = p2vmap.build_data_loader(\n",
    "    streamer=data_stream_p2v,\n",
    "    config=config_p2vmap[\"data\"],\n",
    ")"
   ]
  },
  {
   "cell_type": "code",
   "execution_count": 34,
   "id": "efcab984-9bcb-424b-ac50-f2382b3ee780",
   "metadata": {},
   "outputs": [],
   "source": [
    "for ce, co, ns in dl_train:\n",
    "    ce, co, ns"
   ]
  },
  {
   "cell_type": "code",
   "execution_count": 35,
   "id": "71d0291e-0878-43b3-8c28-858e2f00314a",
   "metadata": {},
   "outputs": [
    {
     "data": {
      "text/plain": [
       "(tensor([ 17, 256, 152,  ...,  37, 143, 279]),\n",
       " tensor([146, 110,   4,  ...,  47, 106,  90]),\n",
       " tensor([[196, 197, 194,  ...,  39, 276,  60],\n",
       "         [ 15, 108, 248,  ..., 262, 145,  62],\n",
       "         [ 30, 174, 100,  ..., 213, 201, 143],\n",
       "         ...,\n",
       "         [ 33, 198,  60,  ..., 116, 211, 134],\n",
       "         [ 61,  27, 263,  ...,  69, 134,   1],\n",
       "         [122, 206,  36,  ...,  42,  93, 172]]))"
      ]
     },
     "execution_count": 35,
     "metadata": {},
     "output_type": "execute_result"
    }
   ],
   "source": [
    "ce, co, ns"
   ]
  },
  {
   "cell_type": "code",
   "execution_count": 36,
   "id": "742f440a-b306-4559-bf08-c71c07ab6309",
   "metadata": {},
   "outputs": [
    {
     "data": {
      "text/plain": [
       "({'batch_size': 1024, 'shuffle': True, 'drop_last': True},\n",
       " {'variable_basket': 'basket',\n",
       "  'variable_product': 'product',\n",
       "  'batch_size': 8192,\n",
       "  'n_negative_samples': 10,\n",
       "  'power': 0.75,\n",
       "  'shuffle': False,\n",
       "  'allow_context_collisions': False})"
      ]
     },
     "execution_count": 36,
     "metadata": {},
     "output_type": "execute_result"
    }
   ],
   "source": [
    "# see config_p2vmap[\"data\"][\"train\"] and config_p2vmap[\"data\"][\"data_streamer\"]\n",
    "config_p2vmap[\"data\"][\"train\"], config_p2vmap[\"data\"][\"data_streamer\"]"
   ]
  },
  {
   "cell_type": "code",
   "execution_count": 37,
   "id": "49635189-b4c5-404d-82d2-d472c8299281",
   "metadata": {},
   "outputs": [
    {
     "data": {
      "text/plain": [
       "(torch.Size([1024]), torch.Size([1024]), torch.Size([1024, 10]))"
      ]
     },
     "execution_count": 37,
     "metadata": {},
     "output_type": "execute_result"
    }
   ],
   "source": [
    "ce.shape, co.shape, ns.shape"
   ]
  },
  {
   "cell_type": "markdown",
   "id": "261117b9-7811-40f3-ae49-8c8736e89a59",
   "metadata": {},
   "source": [
    "### 2) embed indices in vector space\n",
    "\n",
    "Extract corresponding product vectors from embedding"
   ]
  },
  {
   "cell_type": "code",
   "execution_count": 38,
   "id": "85784c1e-690d-422d-bc72-cd71fdabaf79",
   "metadata": {},
   "outputs": [],
   "source": [
    "wi = torch.nn.Embedding(product.shape[0], config_p2vmap[\"p2v\"][\"size\"], sparse=True)  # input embedding\n",
    "with torch.no_grad():\n",
    "    wi.weight.uniform_(-0.025, 0.025)\n",
    "\n",
    "wo = torch.nn.Embedding(product.shape[0], config_p2vmap[\"p2v\"][\"size\"], sparse=True)  # output embedding\n",
    "with torch.no_grad():\n",
    "    wo.weight.uniform_(-0.025, 0.025)"
   ]
  },
  {
   "cell_type": "code",
   "execution_count": 39,
   "id": "3b1f128b-0118-4447-8102-67932d83400c",
   "metadata": {},
   "outputs": [],
   "source": [
    "# embed products (center, context, negative_samples)\n",
    "# turns a product index (e.g., ce[0]) into a product vector (e.g., wi[ce[0]])\n",
    "wi_center = wi(ce)\n",
    "wo_positive_samples = wo(co)\n",
    "wo_negative_samples = wo(ns)"
   ]
  },
  {
   "cell_type": "code",
   "execution_count": 40,
   "id": "8a676990-f76b-4656-9232-2e551c9c615c",
   "metadata": {},
   "outputs": [
    {
     "data": {
      "text/plain": [
       "torch.Size([1024, 25])"
      ]
     },
     "execution_count": 40,
     "metadata": {},
     "output_type": "execute_result"
    }
   ],
   "source": [
    "wi_center.shape  # batch size x number of PV dimensions"
   ]
  },
  {
   "cell_type": "code",
   "execution_count": 41,
   "id": "3721b254-5362-4a9d-8025-5696e9462a7c",
   "metadata": {},
   "outputs": [
    {
     "data": {
      "text/plain": [
       "torch.Size([1024, 25])"
      ]
     },
     "execution_count": 41,
     "metadata": {},
     "output_type": "execute_result"
    }
   ],
   "source": [
    "wo_positive_samples.shape  # batch size x number of PV dimensions"
   ]
  },
  {
   "cell_type": "code",
   "execution_count": 42,
   "id": "0792b413-b2c2-4995-9845-4c5d816892d1",
   "metadata": {},
   "outputs": [
    {
     "data": {
      "text/plain": [
       "torch.Size([1024, 10, 25])"
      ]
     },
     "execution_count": 42,
     "metadata": {},
     "output_type": "execute_result"
    }
   ],
   "source": [
    "wo_negative_samples.shape  # batch size x number of negatives samples x number of PV dimensions"
   ]
  },
  {
   "cell_type": "code",
   "execution_count": 43,
   "id": "2e788847-34d1-4310-8d13-333dd924f631",
   "metadata": {},
   "outputs": [
    {
     "data": {
      "text/plain": [
       "tensor([ 0.0123,  0.0224, -0.0043,  0.0090, -0.0160, -0.0095,  0.0229, -0.0083,\n",
       "        -0.0189, -0.0001,  0.0142,  0.0048, -0.0188,  0.0005, -0.0050, -0.0095,\n",
       "         0.0143, -0.0190, -0.0204,  0.0132,  0.0165, -0.0071, -0.0013,  0.0137,\n",
       "        -0.0184], grad_fn=<SelectBackward>)"
      ]
     },
     "execution_count": 43,
     "metadata": {},
     "output_type": "execute_result"
    }
   ],
   "source": [
    "wi_center[0]"
   ]
  },
  {
   "cell_type": "code",
   "execution_count": 44,
   "id": "12aced8d-4164-4c6a-910d-e7f26aad1f16",
   "metadata": {},
   "outputs": [
    {
     "data": {
      "text/plain": [
       "tensor([ 0.0123,  0.0224, -0.0043,  0.0090, -0.0160, -0.0095,  0.0229, -0.0083,\n",
       "        -0.0189, -0.0001,  0.0142,  0.0048, -0.0188,  0.0005, -0.0050, -0.0095,\n",
       "         0.0143, -0.0190, -0.0204,  0.0132,  0.0165, -0.0071, -0.0013,  0.0137,\n",
       "        -0.0184], grad_fn=<SelectBackward>)"
      ]
     },
     "execution_count": 44,
     "metadata": {},
     "output_type": "execute_result"
    }
   ],
   "source": [
    "wi.weight[ce[0]]  # ce[0] is the first center product in the data streamer output"
   ]
  },
  {
   "cell_type": "code",
   "execution_count": 45,
   "id": "73dc14f8-5e78-4efb-a43d-047244b242e8",
   "metadata": {},
   "outputs": [
    {
     "data": {
      "text/plain": [
       "tensor(17)"
      ]
     },
     "execution_count": 45,
     "metadata": {},
     "output_type": "execute_result"
    }
   ],
   "source": [
    "ce[0]"
   ]
  },
  {
   "cell_type": "markdown",
   "id": "dd0eab48-59d3-4799-bb50-f63f9caa679b",
   "metadata": {},
   "source": [
    "### 3) logits (aka scores)"
   ]
  },
  {
   "cell_type": "code",
   "execution_count": 46,
   "id": "c946f4f5-df7a-407f-bba5-d2040e0fd6cc",
   "metadata": {},
   "outputs": [],
   "source": [
    "logits_positive_samples = torch.einsum(\"ij,ij->i\", (wi_center, wo_positive_samples))\n",
    "logits_negative_samples = torch.einsum(\"ik,ijk->ij\", (wi_center, wo_negative_samples))"
   ]
  },
  {
   "cell_type": "markdown",
   "id": "fb40d5f1-ed59-4e69-a6e3-ba85200ac911",
   "metadata": {},
   "source": [
    "### 4a) compute loss\n",
    "\n",
    "We can compute the loss from probabilities or logits, logits is typically preferred (more robust computationally)."
   ]
  },
  {
   "cell_type": "code",
   "execution_count": 47,
   "id": "9acc4220-4ccc-4655-818f-f466e4d227d8",
   "metadata": {},
   "outputs": [
    {
     "data": {
      "text/plain": [
       "tensor(709.7798, grad_fn=<BinaryCrossEntropyWithLogitsBackward>)"
      ]
     },
     "execution_count": 47,
     "metadata": {},
     "output_type": "execute_result"
    }
   ],
   "source": [
    "loss_positive_samples = torch.nn.functional.binary_cross_entropy_with_logits(\n",
    "    input=logits_positive_samples,\n",
    "    target=torch.ones_like(logits_positive_samples),\n",
    "    reduction=\"sum\",\n",
    ")\n",
    "loss_positive_samples"
   ]
  },
  {
   "cell_type": "code",
   "execution_count": 48,
   "id": "e25fd3db-3689-4e39-88fd-43b97c4e5efb",
   "metadata": {},
   "outputs": [
    {
     "data": {
      "text/plain": [
       "tensor(7097.8877, grad_fn=<BinaryCrossEntropyWithLogitsBackward>)"
      ]
     },
     "execution_count": 48,
     "metadata": {},
     "output_type": "execute_result"
    }
   ],
   "source": [
    "loss_negative_samples = torch.nn.functional.binary_cross_entropy_with_logits(\n",
    "    input=logits_negative_samples,\n",
    "    target=torch.zeros_like(logits_negative_samples),\n",
    "    reduction=\"sum\",\n",
    ")\n",
    "loss_negative_samples"
   ]
  },
  {
   "cell_type": "markdown",
   "id": "e211b02d-9d7a-49c7-a25d-e726ded974c3",
   "metadata": {},
   "source": [
    "### 4b) average loss"
   ]
  },
  {
   "cell_type": "code",
   "execution_count": 49,
   "id": "398913f5-cca5-4407-8f92-f27adfd56c6d",
   "metadata": {},
   "outputs": [
    {
     "data": {
      "text/plain": [
       "11264"
      ]
     },
     "execution_count": 49,
     "metadata": {},
     "output_type": "execute_result"
    }
   ],
   "source": [
    "n_samples = logits_positive_samples.shape[0] * (logits_negative_samples.shape[1] + 1)\n",
    "n_samples"
   ]
  },
  {
   "cell_type": "code",
   "execution_count": 50,
   "id": "ca350d71-2d23-4f07-ba77-427c9228e18e",
   "metadata": {},
   "outputs": [
    {
     "data": {
      "text/plain": [
       "tensor(0.6932, grad_fn=<DivBackward0>)"
      ]
     },
     "execution_count": 50,
     "metadata": {},
     "output_type": "execute_result"
    }
   ],
   "source": [
    "(loss_positive_samples + loss_negative_samples) / n_samples"
   ]
  },
  {
   "cell_type": "markdown",
   "id": "a24884ee-4a79-4345-bdfe-e95439cff9f8",
   "metadata": {},
   "source": [
    "<br>\n",
    "<br>\n",
    "\n",
    "## What's next?\n",
    "\n",
    "### Build your model class"
   ]
  },
  {
   "cell_type": "code",
   "execution_count": 51,
   "id": "558de656-44c6-4158-95e2-4d10948cbde6",
   "metadata": {},
   "outputs": [],
   "source": [
    "class P2V(torch.nn.Module):\n",
    "    def __init__(self, n_products, size):\n",
    "        \"\"\"\n",
    "        Init P2V model\n",
    "        \n",
    "        n_products: number of products in assortment\n",
    "        size: number of latent dimensions in embedding\n",
    "        \"\"\"\n",
    "        super().__init__()\n",
    "\n",
    "        # add trainable variables here\n",
    "        #   wi\n",
    "        #   wo\n",
    "\n",
    "    def forward(self, center, context, negative_samples):\n",
    "        \"\"\"\n",
    "        P2V forward pass\n",
    "        \n",
    "        center: indices of center products (batch_size x 1)\n",
    "        context: indices of context products (batch_size x 1)\n",
    "        negative_samples: indices of negative samples (batch_size x n_negative_samples)\n",
    "        \n",
    "        input is output of iterating over data loader, e.g.,\n",
    "        ```\n",
    "        for ce, co, ns in self.train:\n",
    "            loss_train = self.model(ce, co, ns)\n",
    "            ...\n",
    "        ```\n",
    "        in `TrainerP2V` method `fit`. Here, `model` is an instance of this `P2V` class.\n",
    "        \"\"\"\n",
    "        None\n",
    "\n",
    "        # add forward pass here (steps 2-4)\n",
    "        #   from indices ...\n",
    "        #   ... to loss"
   ]
  },
  {
   "cell_type": "markdown",
   "id": "bfaf6105-ca69-4245-94a1-67512a77fa4d",
   "metadata": {},
   "source": [
    "### Build your trainer class"
   ]
  },
  {
   "cell_type": "code",
   "execution_count": 52,
   "id": "dd04af19-a2cc-4220-bfbf-8274ee7f30aa",
   "metadata": {},
   "outputs": [],
   "source": [
    "class TrainerP2V:\n",
    "    def __init__(self, model, train, validation, path, n_batch_log=500):\n",
    "        \"\"\"\n",
    "        Init P2V trainer\n",
    "        \n",
    "        model: the P2V module\n",
    "        train: the train data loader (output of `p2vmap.build_data_loader`)\n",
    "        validation: the validation data loader output of `p2vmap.build_data_loader`)\n",
    "        path: absolute file path to write results to\n",
    "        n_batch_log: call `self._callback_batch` every `n_batch_log` batches\n",
    "        \"\"\"\n",
    "        self.model = model  # put your model here (via __init__ method)\n",
    "        self.train = train\n",
    "        self.validation = validation\n",
    "        self.optimizer = torch.optim.SparseAdam(params=list(model.parameters()))\n",
    "        self.path = path\n",
    "        os.makedirs(f\"{path}/weights\")\n",
    "        self.writer_train = torch.utils.tensorboard.SummaryWriter(\n",
    "            f\"{self.path}/runs/train\"\n",
    "        )\n",
    "        self.writer_val = torch.utils.tensorboard.SummaryWriter(f\"{self.path}/runs/val\")\n",
    "        self.n_batch_log = n_batch_log\n",
    "        self.global_batch = 0\n",
    "        self.epoch = 0\n",
    "        self.batch = 0\n",
    "\n",
    "    def fit(self, n_epochs):\n",
    "        \"\"\"\n",
    "        Init P2V trainer\n",
    "        \n",
    "        n_epochs: number of epochs (i.e., iterations through complete data set)\n",
    "        \"\"\"\n",
    "\n",
    "        for _ in range(n_epochs):\n",
    "            print(f\"epoch = {self.epoch}\")\n",
    "\n",
    "            for ce, co, ns in self.train:\n",
    "                self.batch += 1\n",
    "                self.global_batch += 1\n",
    "\n",
    "                # add training steps here:\n",
    "                #  - reset gradients\n",
    "                #  - model (forward) pass\n",
    "                #  - compute gradients\n",
    "                #  - optimizer step\n",
    "\n",
    "                self.writer_train.add_scalar(\"loss\", loss_train, self.global_batch)\n",
    "\n",
    "                if self.batch % self.n_batch_log == 1:\n",
    "                    self._callback_batch()\n",
    "\n",
    "            self._callback_epoch()\n",
    "            self.epoch += 1\n",
    "\n",
    "        self.writer_train.flush()\n",
    "        self.writer_train.close()\n",
    "        self.writer_val.flush()\n",
    "        self.writer_val.close()\n",
    "\n",
    "    def _callback_batch(self):\n",
    "        # validation loss\n",
    "        self.model.eval()\n",
    "        with torch.no_grad():\n",
    "            list_loss_validation = []\n",
    "            for ce, co, ns in self.validation:\n",
    "                list_loss_validation.append(self.model(ce, co, ns).item())\n",
    "            loss_validation = np.mean(list_loss_validation)\n",
    "        self.writer_val.add_scalar(\"loss\", loss_validation, self.global_batch)\n",
    "        self.model.train()\n",
    "\n",
    "        # save weights\n",
    "        np.save(\n",
    "            f\"{self.path}/weights/wi_{self.epoch:02d}_{self.batch:06d}.npy\",\n",
    "            self.get_wi(),\n",
    "        )\n",
    "\n",
    "        np.save(\n",
    "            f\"{self.path}/weights/wo_{self.epoch:02d}_{self.batch:06d}.npy\",\n",
    "            self.get_wo(),\n",
    "        )\n",
    "\n",
    "    def get_wi(self):\n",
    "        return self.model.wi.weight.detach().numpy()\n",
    "\n",
    "    def get_wo(self):\n",
    "        return self.model.wo.weight.detach().numpy()"
   ]
  },
  {
   "cell_type": "markdown",
   "id": "e8064849-d130-45cb-a026-72f684304b69",
   "metadata": {},
   "source": [
    "<br>\n",
    "<br>\n",
    "&mdash; <br>\n",
    "Sebastian Gabel <br>\n",
    "`Learning from Big Data`, Module 3, Extra Tutorial <br>\n",
    "2021/22 <br>"
   ]
  }
 ],
 "metadata": {
  "kernelspec": {
   "display_name": "Python 3",
   "language": "python",
   "name": "python3"
  },
  "language_info": {
   "codemirror_mode": {
    "name": "ipython",
    "version": 3
   },
   "file_extension": ".py",
   "mimetype": "text/x-python",
   "name": "python",
   "nbconvert_exporter": "python",
   "pygments_lexer": "ipython3",
   "version": "3.8.2"
  }
 },
 "nbformat": 4,
 "nbformat_minor": 5
}
