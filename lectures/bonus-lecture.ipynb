{
 "cells": [
  {
   "cell_type": "markdown",
   "id": "0849862b-c0f9-4170-87f7-88a77a643e7c",
   "metadata": {},
   "source": [
    "# Bonus lecture Python Coding\n",
    "\n",
    "1. Part 1: Classes and configs\n",
    "    1. Use (yaml) configuration files\n",
    "    1. Organize code in classes\n",
    "    1. Side point: Uses hashing for data and configs\n",
    "    1. Side point: Copying\n",
    "1. Part 2: Data in python\n",
    "    1. Sparse matrices\n",
    "    1. Numpy vs pandas\n",
    "    1. Use dicts\n",
    "1. Part 3: Coding ~guidelines~ opinions"
   ]
  },
  {
   "cell_type": "markdown",
   "id": "aed80d72-7b2b-418e-93bf-f7a0be4b949c",
   "metadata": {},
   "source": [
    "<br>\n",
    "<br>\n",
    "\n",
    "## Importing modules\n",
    "\n",
    "<img src=\"https://raw.githubusercontent.com/sbstn-gbl/learning-from-big-data/master/source/_static/img/libs.png\" width=\"900\"/>"
   ]
  },
  {
   "cell_type": "code",
   "execution_count": null,
   "id": "143e4723-7c60-49e7-a7bf-f617ef2e4954",
   "metadata": {},
   "outputs": [],
   "source": [
    "import copy\n",
    "import hashlib\n",
    "import json\n",
    "\n",
    "import bonus_lib\n",
    "import dict_hash\n",
    "import numpy as np  # this is the standard way to abbreviate numpy\n",
    "import pandas as pd  # this is the standard way to abbreviate pandas\n",
    "import scipy.sparse  # import a submodule\n",
    "import yaml"
   ]
  },
  {
   "cell_type": "code",
   "execution_count": null,
   "id": "334eaa22-c939-49a5-9b23-5c748a4904fa",
   "metadata": {},
   "outputs": [],
   "source": [
    "import importlib\n",
    "\n",
    "importlib.reload(bonus_lib)"
   ]
  },
  {
   "cell_type": "code",
   "execution_count": null,
   "id": "4b493791-15cc-4d3e-acaa-38ec1aa9adae",
   "metadata": {},
   "outputs": [],
   "source": [
    "bonus_lib.read_yaml"
   ]
  },
  {
   "cell_type": "code",
   "execution_count": null,
   "id": "a926d87e-056a-426b-bfc0-40f75e159acf",
   "metadata": {},
   "outputs": [],
   "source": [
    "bonus_lib"
   ]
  },
  {
   "cell_type": "code",
   "execution_count": null,
   "id": "45df9340-3305-4b58-a1b8-a0112172ed6b",
   "metadata": {},
   "outputs": [],
   "source": [
    "bonus_lib.my_variable"
   ]
  },
  {
   "cell_type": "code",
   "execution_count": null,
   "id": "2708edd5-49d9-41c2-932e-d1aa8777f07c",
   "metadata": {},
   "outputs": [],
   "source": [
    "bonus_lib.my_other_variable"
   ]
  },
  {
   "cell_type": "code",
   "execution_count": null,
   "id": "2a26c567-d435-4133-a780-8287e69c1407",
   "metadata": {},
   "outputs": [],
   "source": []
  },
  {
   "cell_type": "code",
   "execution_count": null,
   "id": "fdaf2035-0307-4734-9d55-545cf4c2cfad",
   "metadata": {},
   "outputs": [],
   "source": [
    "import bonus_lib"
   ]
  },
  {
   "cell_type": "code",
   "execution_count": null,
   "id": "cc1c23f1-31ae-442a-b055-8bb5d4a281d6",
   "metadata": {},
   "outputs": [],
   "source": [
    "bonus_lib.my_third_variable"
   ]
  },
  {
   "cell_type": "markdown",
   "id": "477c3df5-f0b8-4867-acec-b38b17132951",
   "metadata": {},
   "source": [
    "<br>\n",
    "<br>\n",
    "\n",
    "## 1. Classes and configs\n",
    "\n",
    "### YAML files"
   ]
  },
  {
   "cell_type": "code",
   "execution_count": null,
   "id": "e83e90f5-1dd1-47a8-8331-f3187a37887e",
   "metadata": {},
   "outputs": [],
   "source": [
    "def read_yaml(f):\n",
    "    with open(f, \"r\") as con:\n",
    "        x = yaml.safe_load(con)\n",
    "    return x"
   ]
  },
  {
   "cell_type": "code",
   "execution_count": null,
   "id": "e78e1858-640e-4008-bb1c-cd060ad0925c",
   "metadata": {},
   "outputs": [],
   "source": [
    "config = read_yaml(\"bonus-config.yaml\")\n",
    "config  # prints the dict"
   ]
  },
  {
   "cell_type": "code",
   "execution_count": null,
   "id": "44ce6930-bb7a-4af3-8cd1-e40c381ac711",
   "metadata": {},
   "outputs": [],
   "source": [
    "print(yaml.dump(config, sort_keys=False))  # prints in yaml format"
   ]
  },
  {
   "cell_type": "markdown",
   "id": "9896ba6c-0a02-4d1c-bb29-16f41f311f77",
   "metadata": {},
   "source": [
    "### Classes"
   ]
  },
  {
   "cell_type": "code",
   "execution_count": null,
   "id": "a82d8e9a-a50b-4094-a4ef-455bcfb019b0",
   "metadata": {},
   "outputs": [],
   "source": [
    "class Config:\n",
    "    def __init__(self, x=None, method=\"yaml\", indent=4):\n",
    "        self.method = method\n",
    "        self.indent = indent\n",
    "        self.reader = self._reader()  # define reader, this is a function!\n",
    "        self.writer = self._writer()  # define writer, this is a function!\n",
    "        self.printer = self._printer()  # define printer, this is a function!\n",
    "\n",
    "        if isinstance(x, str):\n",
    "            self.file = x\n",
    "            self.read_config()\n",
    "        else:\n",
    "            self.file = None\n",
    "            self.config = x\n",
    "\n",
    "        self.author = self.config[\"author\"]\n",
    "        self.project = self.config[\"project\"]\n",
    "        self.version = self.config[\"version\"]\n",
    "\n",
    "    def __getitem__(self, x):\n",
    "        return self.config[x]\n",
    "\n",
    "    def read_config(self):\n",
    "        with open(self.file, \"r\") as con:\n",
    "            config = self.reader(con)\n",
    "        self.config = config\n",
    "        self.hash = dict_hash.sha256(self.config)\n",
    "\n",
    "    def write_config(self, path=\"\"):\n",
    "        with open(f\"{path}{self.hash}.{self.method}\", \"w\") as con:\n",
    "            self.writer(self.config, con, sort_keys=False)\n",
    "\n",
    "    def print_config(self):\n",
    "        print(self.printer(self.config, indent=self.indent, sort_keys=False))\n",
    "\n",
    "    def _reader(self):\n",
    "        reader_methods = {\n",
    "            \"yaml\": yaml.safe_load,\n",
    "            \"json\": json.load,\n",
    "        }\n",
    "        return reader_methods[self.method]\n",
    "\n",
    "    def _writer(self):\n",
    "        writer_methods = {\n",
    "            \"yaml\": yaml.dump,\n",
    "            \"json\": json.dump,\n",
    "        }\n",
    "        return writer_methods[self.method]\n",
    "\n",
    "    def _printer(self):\n",
    "        printer_methods = {\n",
    "            \"yaml\": yaml.dump,\n",
    "            \"json\": json.dumps,\n",
    "        }\n",
    "        return printer_methods[self.method]"
   ]
  },
  {
   "cell_type": "code",
   "execution_count": null,
   "id": "ae829fb1-995d-4611-ae09-b19525e51e2d",
   "metadata": {},
   "outputs": [],
   "source": [
    "my_config = Config(\"bonus-config.yaml\")"
   ]
  },
  {
   "cell_type": "code",
   "execution_count": null,
   "id": "ec8d1e01-462c-474d-a989-710a38ab36fe",
   "metadata": {},
   "outputs": [],
   "source": [
    "my_config"
   ]
  },
  {
   "cell_type": "code",
   "execution_count": null,
   "id": "17dc43e5-23d6-4a44-80ee-1cfc866b5e65",
   "metadata": {},
   "outputs": [],
   "source": [
    "my_config.author"
   ]
  },
  {
   "cell_type": "code",
   "execution_count": null,
   "id": "d2a31368-ce81-4106-b85a-39273d7f7aea",
   "metadata": {},
   "outputs": [],
   "source": [
    "my_config.version"
   ]
  },
  {
   "cell_type": "code",
   "execution_count": null,
   "id": "3736f344-0d6e-4405-918a-e65e2c3d2aea",
   "metadata": {},
   "outputs": [],
   "source": [
    "my_config.project"
   ]
  },
  {
   "cell_type": "code",
   "execution_count": null,
   "id": "b63a6eca-f48e-490b-823d-7dcf4aba093a",
   "metadata": {},
   "outputs": [],
   "source": [
    "my_config.print_config()"
   ]
  },
  {
   "cell_type": "code",
   "execution_count": null,
   "id": "77194c8c-c488-4a5e-ad37-0ae27f160a52",
   "metadata": {},
   "outputs": [],
   "source": [
    "my_config.write_config()"
   ]
  },
  {
   "cell_type": "markdown",
   "id": "9fa3dd4c-91ed-41d0-8186-ada4a532108c",
   "metadata": {},
   "source": [
    "### Hashing\n",
    "\n",
    "Trace content of configs (and data) files in a single string!"
   ]
  },
  {
   "cell_type": "code",
   "execution_count": null,
   "id": "bb30f892-ef82-48f9-bb58-fdafcea9da18",
   "metadata": {},
   "outputs": [],
   "source": [
    "my_config.hash"
   ]
  },
  {
   "cell_type": "code",
   "execution_count": null,
   "id": "a8392bb7-106c-48b9-b984-50e47d0137a4",
   "metadata": {},
   "outputs": [],
   "source": [
    "my_config.hash"
   ]
  },
  {
   "cell_type": "code",
   "execution_count": null,
   "id": "95d723c9-99e7-4304-80f4-e596731c0e90",
   "metadata": {},
   "outputs": [],
   "source": [
    "my_config.config[\"data\"]"
   ]
  },
  {
   "cell_type": "code",
   "execution_count": null,
   "id": "be159611-03c5-453d-9edd-b9b4a0e379cf",
   "metadata": {},
   "outputs": [],
   "source": [
    "my_config[\"data\"]  # using __getitem__"
   ]
  },
  {
   "cell_type": "markdown",
   "id": "510d5fae-e774-40fa-b345-a0a6924e23c1",
   "metadata": {},
   "source": [
    "### Copying\n",
    "\n",
    "Beware of side effects! Read more about refernces vs. copies in [this article](https://levelup.gitconnected.com/understanding-reference-and-copy-in-python-c681341a0cd8)."
   ]
  },
  {
   "cell_type": "markdown",
   "id": "fd9a54a7-6860-4011-b8b2-a6648306e840",
   "metadata": {},
   "source": [
    "<div class=\"alert-danger\">BAD</div>"
   ]
  },
  {
   "cell_type": "code",
   "execution_count": null,
   "id": "a743a26a-3624-4a47-8aed-dc2188035acd",
   "metadata": {},
   "outputs": [],
   "source": [
    "second_config = my_config.config\n",
    "second_config[\"author\"] = \"gui\""
   ]
  },
  {
   "cell_type": "code",
   "execution_count": null,
   "id": "7c2d315d-946d-4c7e-a744-f92b0cd62b6a",
   "metadata": {},
   "outputs": [],
   "source": [
    "my_config.config  # that's bad!"
   ]
  },
  {
   "cell_type": "code",
   "execution_count": null,
   "id": "1dcc2f50-e4d4-411a-986c-61ead049831f",
   "metadata": {},
   "outputs": [],
   "source": [
    "id(second_config) == id(my_config.config), id(second_config), id(my_config.config)"
   ]
  },
  {
   "cell_type": "markdown",
   "id": "f41e391b-b4c7-414a-89bc-c3198885d08d",
   "metadata": {},
   "source": [
    "<div class=\"alert-success\">GOOD</div>"
   ]
  },
  {
   "cell_type": "code",
   "execution_count": null,
   "id": "16ce93a4-89ee-409d-bbba-bd5b3e4c3535",
   "metadata": {},
   "outputs": [],
   "source": [
    "my_config.config[\"author\"] = \"sebastian\"  # fix the mistake\n",
    "second_config = copy.deepcopy(my_config.config)  # copy\n",
    "second_config[\"author\"] = \"gui\""
   ]
  },
  {
   "cell_type": "code",
   "execution_count": null,
   "id": "0c148bd5-d2f2-4d01-8faf-2f1ecdbd773d",
   "metadata": {},
   "outputs": [],
   "source": [
    "id(second_config) == id(my_config.config), id(second_config), id(my_config.config)"
   ]
  },
  {
   "cell_type": "code",
   "execution_count": null,
   "id": "0e1658ca-b049-4945-8b6a-e8a7c375d066",
   "metadata": {},
   "outputs": [],
   "source": [
    "my_config.config  # that's good :)"
   ]
  },
  {
   "cell_type": "code",
   "execution_count": null,
   "id": "d08f519a-6568-4c94-8c56-2e6dc19bae75",
   "metadata": {},
   "outputs": [],
   "source": [
    "my_config_2 = Config(second_config)"
   ]
  },
  {
   "cell_type": "code",
   "execution_count": null,
   "id": "bab81d79-df7b-44a7-862a-201a87ac0c29",
   "metadata": {},
   "outputs": [],
   "source": [
    "my_config_2.author"
   ]
  },
  {
   "cell_type": "markdown",
   "id": "110e7568-8a95-483e-a6d4-30c4b80e299c",
   "metadata": {},
   "source": [
    "<br>\n",
    "<br>\n",
    "\n",
    "## 2. Data in python"
   ]
  },
  {
   "cell_type": "code",
   "execution_count": null,
   "id": "32100dd4-b157-4b73-a5d5-f5d985b25354",
   "metadata": {},
   "outputs": [],
   "source": [
    "my_config[\"dataset\"]"
   ]
  },
  {
   "cell_type": "code",
   "execution_count": null,
   "id": "d1af665d-7328-4d0c-b36f-e61798ae2761",
   "metadata": {},
   "outputs": [],
   "source": [
    "my_config[\"data\"]"
   ]
  },
  {
   "cell_type": "code",
   "execution_count": null,
   "id": "98cf8437-376c-4736-bca5-101ee1ed4b0e",
   "metadata": {},
   "outputs": [],
   "source": [
    "data_config = my_config[\"data\"][my_config[\"dataset\"]]\n",
    "data_config"
   ]
  },
  {
   "cell_type": "code",
   "execution_count": null,
   "id": "90251d80-46af-4015-99d6-df663d9784ce",
   "metadata": {},
   "outputs": [],
   "source": [
    "np.random.seed(1234)"
   ]
  },
  {
   "cell_type": "code",
   "execution_count": null,
   "id": "e498c088-a459-430f-9822-42cb34f8f784",
   "metadata": {},
   "outputs": [],
   "source": [
    "data_df = pd.DataFrame(\n",
    "    {\n",
    "        \"i\": np.random.choice(data_config[\"D1\"], data_config[\"N\"], replace=False),\n",
    "        \"j\": np.random.choice(data_config[\"D2\"], data_config[\"N\"], replace=False),\n",
    "        \"value\": 1,\n",
    "    }\n",
    ").drop_duplicates()"
   ]
  },
  {
   "cell_type": "code",
   "execution_count": null,
   "id": "3fe0c64e-cd35-4742-92ad-46a8d986acb0",
   "metadata": {},
   "outputs": [],
   "source": [
    "data_arr = np.zeros((data_config[\"D1\"], data_config[\"D2\"]), dtype=np.int)\n",
    "data_arr[data_df[\"i\"], data_df[\"j\"]] = data_df[\"value\"]\n",
    "data_arr"
   ]
  },
  {
   "cell_type": "markdown",
   "id": "c7960e7d-8c90-410d-9803-765d7033183f",
   "metadata": {},
   "source": [
    "<div class=\"alert-danger\">BAD</div>"
   ]
  },
  {
   "cell_type": "code",
   "execution_count": null,
   "id": "feb8c2a7-7096-4f10-8955-9ebbbe09f460",
   "metadata": {},
   "outputs": [],
   "source": [
    "def generate_data(config, seed):\n",
    "    np.random.seed(seed)\n",
    "    data_df = pd.DataFrame(\n",
    "        {\n",
    "            \"i\": np.random.choice(config[\"D1\"], config[\"N\"]),\n",
    "            \"j\": np.random.choice(config[\"D2\"], config[\"N\"]),\n",
    "            \"value\": 1,\n",
    "        }\n",
    "    ).drop_duplicates()\n",
    "    data_arr = np.zeros((config[\"D1\"], config[\"D2\"]), dtype=np.int)\n",
    "    data_arr[data_df[\"i\"], data_df[\"j\"]] = data_df[\"value\"]\n",
    "    return data_arr\n",
    "\n",
    "\n",
    "generate_data(my_config[\"data\"][my_config[\"dataset\"]], seed=1234)"
   ]
  },
  {
   "cell_type": "markdown",
   "id": "23ed53c2-ad97-408b-82ae-6c47a936d8e4",
   "metadata": {},
   "source": [
    "<div class=\"alert-success\">GOOD</div>"
   ]
  },
  {
   "cell_type": "code",
   "execution_count": null,
   "id": "905158c7-65f5-4ba7-a2a6-b7fc1ddb111d",
   "metadata": {},
   "outputs": [],
   "source": [
    "def generate_data(D1, D2, N, seed=1234, args, kwargs):\n",
    "    np.random.seed(seed)\n",
    "    data_df = pd.DataFrame(\n",
    "        {\n",
    "            \"i\": np.random.choice(D1, N),\n",
    "            \"j\": np.random.choice(D2, N),\n",
    "            \"value\": 1,\n",
    "        }\n",
    "    ).drop_duplicates()\n",
    "    data_arr = np.zeros((D1, D2), dtype=np.int)\n",
    "    data_arr[data_df[\"i\"], data_df[\"j\"]] = data_df[\"value\"]\n",
    "    return data_arr\n",
    "\n",
    "\n",
    "generate_data(**my_config[\"data\"][\"small\"])"
   ]
  },
  {
   "cell_type": "code",
   "execution_count": null,
   "id": "aedb629a-3310-4684-af97-0cfd892b9ab4",
   "metadata": {},
   "outputs": [],
   "source": [
    "my_array = generate_data(**my_config[\"data\"][\"small\"])\n",
    "my_array.T.dot(my_array)"
   ]
  },
  {
   "cell_type": "markdown",
   "id": "56d2bd29-4b04-4080-83c0-d92eeabb9610",
   "metadata": {},
   "source": [
    "### Sparse matrices"
   ]
  },
  {
   "cell_type": "code",
   "execution_count": null,
   "id": "2eb17bc3-9bdf-4f41-a4b9-9e2ce80d3ffd",
   "metadata": {},
   "outputs": [],
   "source": [
    "my_array_large = generate_data(**my_config[\"data\"][\"large\"])\n",
    "my_array_large.shape"
   ]
  },
  {
   "cell_type": "code",
   "execution_count": null,
   "id": "d0b6ed25-5ee8-4799-8fd0-f52b8c477cf9",
   "metadata": {},
   "outputs": [],
   "source": [
    "def generate_data_sparse(D1, D2, N, seed=1234):\n",
    "    data_df = pd.DataFrame(\n",
    "        {\n",
    "            \"i\": np.random.choice(D1, N),\n",
    "            \"j\": np.random.choice(D2, N),\n",
    "            \"value\": 1,\n",
    "        }\n",
    "    ).drop_duplicates()\n",
    "    my_array_sparse = scipy.sparse.csr_matrix(\n",
    "        (data_df[\"value\"], (data_df[\"i\"], data_df[\"j\"])), shape=(D1, D2)\n",
    "    )\n",
    "    return my_array_sparse\n",
    "\n",
    "\n",
    "my_array_sparse = generate_data_sparse(**my_config[\"data\"][\"large\"])\n",
    "my_array_sparse"
   ]
  },
  {
   "cell_type": "code",
   "execution_count": null,
   "id": "7f049289-5ea4-47b6-ac96-e13b790f15fc",
   "metadata": {},
   "outputs": [],
   "source": [
    "%%timeit\n",
    "my_array_large.T.dot(my_array_large)"
   ]
  },
  {
   "cell_type": "code",
   "execution_count": null,
   "id": "1e91a36a-08f7-4567-9d7e-4db2cf0c41a1",
   "metadata": {},
   "outputs": [],
   "source": [
    "%%timeit\n",
    "my_array_sparse.T.dot(my_array_sparse)"
   ]
  },
  {
   "cell_type": "markdown",
   "id": "3a6f42e3-b217-4f28-ab99-6f7ed6debbba",
   "metadata": {},
   "source": [
    "## Do we like pandas?\n",
    "\n",
    "### Comparison pandas vs. numpy "
   ]
  },
  {
   "cell_type": "code",
   "execution_count": null,
   "id": "363ee229-831c-46a2-8d96-9b8f4b9eb337",
   "metadata": {},
   "outputs": [],
   "source": [
    "df = pd.DataFrame({\"a\": np.repeat(range(1000), np.random.choice(range(4, 10), 1000))})\n",
    "df[\"b\"] = np.random.choice(range(500), df.shape[0])\n",
    "df = df.drop_duplicates()\n",
    "df = df.sort_values([\"a\", \"b\"])\n",
    "\n",
    "assert df.groupby(\"a\")[\"b\"].count().max() >= 4\n",
    "assert df.groupby(\"a\")[\"b\"].count().max() < 10\n",
    "assert df[\"b\"].max() < 500"
   ]
  },
  {
   "cell_type": "code",
   "execution_count": null,
   "id": "6097e81b-7aa9-472f-bb5f-f39eb1027fea",
   "metadata": {},
   "outputs": [],
   "source": [
    "df"
   ]
  },
  {
   "cell_type": "code",
   "execution_count": null,
   "id": "905f7a30-3e92-4a40-a889-b49142ce3b70",
   "metadata": {},
   "outputs": [],
   "source": [
    "def df_to_list_pandas(x):\n",
    "    return x.groupby(\"a\").agg(lambda x: list(x)).b.to_list()"
   ]
  },
  {
   "cell_type": "code",
   "execution_count": null,
   "id": "d9109c0a-fecb-4474-92ef-b80e00ccd950",
   "metadata": {},
   "outputs": [],
   "source": [
    "def df_to_list_numpy(x):\n",
    "    keys, values = x[[\"a\", \"b\"]].values.T\n",
    "    ukeys, index = np.unique(keys, True)\n",
    "    arrays = np.split(values, index)\n",
    "    x_list = [list(a) for a in arrays[1:]]\n",
    "    return x_list"
   ]
  },
  {
   "cell_type": "code",
   "execution_count": null,
   "id": "00ed61ef-c181-44c9-852d-4cf4f4c5cf6f",
   "metadata": {},
   "outputs": [],
   "source": [
    "list_1 = df_to_list_pandas(df)\n",
    "list_2 = df_to_list_numpy(df)\n",
    "assert list_1 == list_2"
   ]
  },
  {
   "cell_type": "markdown",
   "id": "da3a00b8-b2e5-4fb0-a4d0-d1e6bfb3dd92",
   "metadata": {},
   "source": [
    "### Runtime"
   ]
  },
  {
   "cell_type": "code",
   "execution_count": null,
   "id": "15b887fe-a75c-40e8-b6ce-6acfdd697bc2",
   "metadata": {},
   "outputs": [],
   "source": [
    "%%timeit\n",
    "df_to_list_pandas(df)"
   ]
  },
  {
   "cell_type": "code",
   "execution_count": null,
   "id": "18f85e51-f377-4978-bd07-069a1ba48660",
   "metadata": {},
   "outputs": [],
   "source": [
    "%%timeit\n",
    "df_to_list_numpy(df)"
   ]
  },
  {
   "cell_type": "markdown",
   "id": "e33aa6b4-2af2-4d06-a583-e379f4b42c94",
   "metadata": {},
   "source": [
    "### Line profiler"
   ]
  },
  {
   "cell_type": "code",
   "execution_count": null,
   "id": "2c926fc3-7c3e-42e4-b2ad-518dabccbf71",
   "metadata": {},
   "outputs": [],
   "source": [
    "%load_ext line_profiler"
   ]
  },
  {
   "cell_type": "code",
   "execution_count": null,
   "id": "a11fa7ff-5be2-4464-af61-f1cb244de023",
   "metadata": {},
   "outputs": [],
   "source": [
    "%lprun -f df_to_list_pandas df_to_list_pandas(df)"
   ]
  },
  {
   "cell_type": "code",
   "execution_count": null,
   "id": "911325a9-6eb5-4192-978f-695ad597417f",
   "metadata": {},
   "outputs": [],
   "source": [
    "%lprun -f df_to_list_numpy df_to_list_numpy(df)"
   ]
  },
  {
   "cell_type": "markdown",
   "id": "df52707e-e7e1-4de9-9d5a-bb5c95cb39f7",
   "metadata": {},
   "source": [
    "## dicts\n",
    "\n",
    "<img src=\"https://raw.githubusercontent.com/sbstn-gbl/learning-from-big-data/master/source/_static/img/dict.png\" width=\"400\"/>"
   ]
  },
  {
   "cell_type": "code",
   "execution_count": null,
   "id": "22eda0f9-453e-4947-9ce3-b71898a15933",
   "metadata": {},
   "outputs": [],
   "source": [
    "def generate_data(N):\n",
    "    np.random.seed(1234)\n",
    "    keys = list(range(N))\n",
    "    np.random.shuffle(keys)\n",
    "    values = np.random.uniform(0, 1, N)\n",
    "    sample_df = pd.DataFrame(\n",
    "        {\n",
    "            \"key\": keys,\n",
    "            \"value\": values,\n",
    "        }\n",
    "    )\n",
    "    sample_dict = {k: v for k, v in zip(keys, values)}\n",
    "    return sample_df, sample_dict"
   ]
  },
  {
   "cell_type": "code",
   "execution_count": null,
   "id": "a0af08f0-5220-4a8c-bb3a-9d138494ddaa",
   "metadata": {},
   "outputs": [],
   "source": [
    "sample_df_small, sample_dict_small = generate_data(N=10000)"
   ]
  },
  {
   "cell_type": "code",
   "execution_count": null,
   "id": "45d6c0b1-b6d6-419c-84fa-3defddcd0427",
   "metadata": {},
   "outputs": [],
   "source": [
    "sample_df_large, sample_dict_large = generate_data(N=10000000)"
   ]
  },
  {
   "cell_type": "markdown",
   "id": "e4882045-acb1-43de-8e9a-7ddcbb335a48",
   "metadata": {},
   "source": [
    "### Runtime\n",
    "\n",
    "#### `pandas`"
   ]
  },
  {
   "cell_type": "code",
   "execution_count": null,
   "id": "43e3aac0-b8f1-44e9-bdcc-bb7c5852b8bf",
   "metadata": {},
   "outputs": [],
   "source": [
    "%%timeit\n",
    "sample_df_small.loc[sample_df_small[\"key\"] == 1234, \"value\"].values[0]"
   ]
  },
  {
   "cell_type": "code",
   "execution_count": null,
   "id": "061244fe-1738-4c5c-b749-fc75abd7b541",
   "metadata": {},
   "outputs": [],
   "source": [
    "%%timeit\n",
    "sample_df_large.loc[sample_df_large[\"key\"] == 1234, \"value\"].values[0]"
   ]
  },
  {
   "cell_type": "markdown",
   "id": "872574ea-3d40-4c6d-ab04-b56362d8c7df",
   "metadata": {},
   "source": [
    "#### `dict`"
   ]
  },
  {
   "cell_type": "code",
   "execution_count": null,
   "id": "3250eb47-2cb9-4be9-8147-f92c3f5d32e1",
   "metadata": {},
   "outputs": [],
   "source": [
    "%%timeit\n",
    "sample_dict_small[1234]"
   ]
  },
  {
   "cell_type": "code",
   "execution_count": null,
   "id": "72a06f52-a276-4023-93f8-a4bdb7be6eb4",
   "metadata": {},
   "outputs": [],
   "source": [
    "%%timeit\n",
    "sample_dict_large[1234]"
   ]
  },
  {
   "cell_type": "markdown",
   "id": "ee735360-d34a-480d-aa69-867707af5206",
   "metadata": {},
   "source": [
    "Some more (theoretical) background:\n",
    "\n",
    "<img src=\"https://raw.githubusercontent.com/sbstn-gbl/learning-from-big-data/master/source/_static/img/big-o.png\" width=\"800\"/>\n",
    "\n",
    "Based on this [article](https://nedbatchelder.com/text/bigo.html), read it for some more details."
   ]
  },
  {
   "cell_type": "markdown",
   "id": "5cdfe6db-3150-47c0-b27e-bebc3e98c003",
   "metadata": {},
   "source": [
    "<br>\n",
    "<br>\n",
    "\n",
    "## 3. Python coding ~guidelines~ opinions\n",
    "\n",
    "This is just and overview, and much of the content is only a personal opinion :) Feel free to disagree or to make up your own guidelines. I added some additional resources at the end of the document that will help you form your opinion.\n",
    "\n",
    "### Some general thoughts\n",
    "\n",
    "#### Good vs. bad code\n",
    "\n",
    "Martin Fowler\n",
    "\n",
    "> Any fool can write code that a computer can understand. Good programmers write code that humans can understand.\n",
    "\n",
    "Both may be correct as far as compiling and when they are run. But bad code can present some problems in development, debugging, and modifying. In your projects, no matter how well your program runs, someone will have to read or alter your code at some point.\n",
    "\n",
    "- Good code is not clever. It does things in straightforward, obvious ways.\n",
    "- Good code is developed in small, easy to read units of computation.\n",
    "- Good code is well-organized.\n",
    "- Good code is well-tested.\n",
    "\n",
    "#### Goals for our (Python) code\n",
    "\n",
    "- Do the right thing\n",
    "- Useful\n",
    "- Pythonic\n",
    "- Readable\n",
    "- \"Beautiful\"\n",
    "\n",
    "### Version control\n",
    "\n",
    "This is a ___must___. Put your code on GitHub (or any other online tool for version control). This way it’s accessible by anyone at any time. Use `git` often to track changes in small increments.\n",
    "\n",
    "Content of your repository\n",
    "- a readme (e.g., `.md`)\n",
    "- a `Makefile`  # convenience\n",
    "- requirements.txt  # required modules\n",
    "- setup.py\n",
    "- a license\n",
    "- src\n",
    "- tests\n",
    "- docs\n",
    "- a change log/release docs\n",
    "- ...\n",
    "\n",
    "### READMEs\n",
    "\n",
    "A README is a ___must___ for any project. It should contain\n",
    "\n",
    "- The project goal\n",
    "- Repository content\n",
    "- Dependencies/requirements\n",
    "- Install instructions\n",
    "- Instructions on how to run tests\n",
    "- A list of contributors/codeowners\n",
    "- Instructions on how others can contribute\n",
    "- ...\n",
    "\n",
    "### Documentation and comments\n",
    "\n",
    "Choose your docstring style and stick to it. Adding docstrings to all your module, function, class, or method definitions is an extremely good idea. To make your code as maintainable and readable as possible, you’ll want to choose one docstring style and stick to that.\n",
    "\n",
    "Use comments when necessary. Good code comments explain ___why___ things are done, not ___what___ is done. The code itself explains what is done. Often, comments can be used sparingly.\n",
    "\n",
    "### Code reviews\n",
    "\n",
    "Code reviews are a must. Use pull requests!\n",
    "\n",
    "Benefits include:\n",
    "- Find bugs early\n",
    "- Better code quality\n",
    "- Share knowledge and learn new things\n",
    "- Keep standards and maintain consistency\n",
    "- Compliance\n",
    "- Team cohesion\n",
    "- Enforce tests\n",
    "- Keep `main` branch clean and executable, i.e., only update `main` when task is 100% done (and reviewed), avoid partial work results that break code in `main`\n",
    "\n",
    "### Use virtual environments\n",
    "\n",
    "Advantages:\n",
    "- You can use any version of Python/modules you want for a specific environment without having to worry about collisions\n",
    "- You can `freeze` your environment and let other users create an identical environment on their machine\n",
    "- You can organize your packages much better and know exactly the packages you need to run your code in case someone else needs to run it on their machine\n",
    "- Your main python package directory does not get flooded with unnecessary python packages\n",
    "\n",
    "### Write readable code\n",
    "\n",
    "- You should use line breaks and indent your code\n",
    "- Use naming conventions for identifiers, this makes it easier to understand the code\n",
    "- Use comments, and whitespaces around operators and assignments\n",
    "- Maybe: Keep the maximum line length 79 characters (or comparable)\n",
    "\n",
    "Much of the above that relates to code formatting can be automated, see sections PEP 8 and black.\n",
    "\n",
    "And please read books! Learn about and follow established best practices. For example, there is no “private” keyword in Python, and the main convention for private properties and implementation details is to prefix all “internals” with an underscore.\n",
    "\n",
    "### PEP 8\n",
    "\n",
    "[PEP 8](https://www.python.org/dev/peps/pep-0008/) is the de facto code style guide for Python (also see [pep8.org](pep8.org)). The entire Python community does their best to adhere to the guidelines laid out within this document. \n",
    "\n",
    "#### `black` code formatter\n",
    "\n",
    "The auto-formatter `black` offers an opinionated and deterministic reformatting of your code base. Its main focus lies in providing a uniform code style without the need of configuration. Due to the deterministic approach minimal git diffs with only the relevant changes are guaranteed. Install with `pip install black`, and use with `black my_file.py`.\n",
    "\n",
    "#### `isort` code formatter\n",
    "\n",
    "The auto-formatter `isort` sorts the imports in your python code. Install with `pip install isort`, and use with `isort my_file.py`.\n",
    "\n",
    "#### Jupyter Lab code formatter\n",
    "\n",
    "The Jupyter plugin `jupyter-code-formatter` can be used in Jupyter to format scripts and notebooks. It requires `black` and `isort`. Install with `pip install jupyter-code-formatter`. Use by clicking the icon in the menu bar. See the [readthedocs](https://jupyterlab-code-formatter.readthedocs.io/en/latest) for more information.\n",
    "\n",
    "### PEP 20 guiding Python design principles\n",
    "\n",
    "See https://github.com/hblanks/zen-of-python-by-example/blob/master/pep20_by_example.pdf"
   ]
  },
  {
   "cell_type": "code",
   "execution_count": null,
   "id": "e4a09c0a-594d-4390-a834-372c804caf97",
   "metadata": {},
   "outputs": [],
   "source": [
    "import this"
   ]
  },
  {
   "cell_type": "markdown",
   "id": "55ea7b8b-fb7d-4eca-aafd-640f50fff7ec",
   "metadata": {},
   "source": [
    "## Let's look at some good and some bad code"
   ]
  },
  {
   "cell_type": "markdown",
   "id": "0737f748-269d-4126-abbf-fb4df50eff6a",
   "metadata": {},
   "source": [
    "### Naming"
   ]
  },
  {
   "cell_type": "markdown",
   "id": "2c5c47eb-653a-4a12-b1a9-0d2ada109aa1",
   "metadata": {},
   "source": [
    "<div class=\"alert-danger\">BAD</div>"
   ]
  },
  {
   "cell_type": "code",
   "execution_count": null,
   "id": "1b184ae2-930b-4cc5-ab21-359a15c03054",
   "metadata": {},
   "outputs": [],
   "source": [
    "n = 10000"
   ]
  },
  {
   "cell_type": "markdown",
   "id": "98fd89a1-31a7-4b2d-8137-0012fe79d155",
   "metadata": {},
   "source": [
    "<div class=\"alert-success\">GOOD</div>"
   ]
  },
  {
   "cell_type": "code",
   "execution_count": null,
   "id": "01475d28-939b-406d-8865-138d34ab6560",
   "metadata": {},
   "outputs": [],
   "source": [
    "n_customers = 10000"
   ]
  },
  {
   "cell_type": "markdown",
   "id": "a6e6e447-d258-444a-9cc3-363db2a45dca",
   "metadata": {},
   "source": [
    "### Multi-line statements\n",
    "Some compound statements (e.g., list comprehensions) are appreciated, other than that it is bad practice to have two disjointed statements on the same line of code."
   ]
  },
  {
   "cell_type": "markdown",
   "id": "3073cf56-1b32-4420-a4cd-96958b29e7e4",
   "metadata": {},
   "source": [
    "<div class=\"alert-danger\">BAD</div>"
   ]
  },
  {
   "cell_type": "code",
   "execution_count": null,
   "id": "0107856a-8d90-453d-8862-c6247a3dfa0f",
   "metadata": {},
   "outputs": [],
   "source": [
    "print(\"print 1\"); print(\"print 2\")\n",
    "\n",
    "if 1 == 1: print(\"print 1\")\n",
    "\n",
    "if (4 > 2) and (9 < 123): print(\"print true\")"
   ]
  },
  {
   "cell_type": "markdown",
   "id": "dde51913-5b80-45f1-9ff4-4c1bf75b866f",
   "metadata": {},
   "source": [
    "Try to fix the cell above by using the jupyterlab code formatter."
   ]
  },
  {
   "cell_type": "markdown",
   "id": "550c2e6f-01b3-4ea9-9282-6d9fa5e710ae",
   "metadata": {},
   "source": [
    "<div class=\"alert-success\">GOOD</div>"
   ]
  },
  {
   "cell_type": "code",
   "execution_count": null,
   "id": "3f9b4473-be24-48c6-99ed-2506df8850b7",
   "metadata": {},
   "outputs": [],
   "source": [
    "print(\"print 1\")\n",
    "print(\"print 2\")\n",
    "\n",
    "if 1 == 1:\n",
    "    print(\"print 1\")\n",
    "\n",
    "cond1 = 4 > 2\n",
    "cond2 = 9 < 123\n",
    "if cond1 and cond2:\n",
    "    print(\"print true\")"
   ]
  },
  {
   "cell_type": "markdown",
   "id": "61a1dcc3-e5b4-4670-8b73-2f80f5dbc312",
   "metadata": {},
   "source": [
    "### Use f-strings"
   ]
  },
  {
   "cell_type": "markdown",
   "id": "4db494cd-623e-40d3-b07d-e8bfe7c7f447",
   "metadata": {},
   "source": [
    "<div class=\"alert-success\">GOOD</div>"
   ]
  },
  {
   "cell_type": "code",
   "execution_count": null,
   "id": "9c99cf29-7a6f-4029-ac81-fae5360c9ab9",
   "metadata": {},
   "outputs": [],
   "source": [
    "name = \"Sebastian\"\n",
    "favorite_language = \"Python\"\n",
    "f\"Hi, I'm {name}. My favorite programming language is {favorite_language}.\""
   ]
  },
  {
   "cell_type": "code",
   "execution_count": null,
   "id": "0e82d1fc-7bab-442f-a076-67413aaf4872",
   "metadata": {},
   "outputs": [],
   "source": [
    "my_number = 0.2\n",
    "f\"Hi, I'm a number, my value is {my_number:.2f}. I found two more digits: {my_number:.4f}\""
   ]
  },
  {
   "cell_type": "markdown",
   "id": "6a4b835f-0b4f-40e4-afaa-2d7fdff1d0cf",
   "metadata": {},
   "source": [
    "### Loops\n",
    "\n",
    "#### Base example"
   ]
  },
  {
   "cell_type": "markdown",
   "id": "7da7e7b6-c58f-4098-a96c-d109ee769209",
   "metadata": {},
   "source": [
    "<div class=\"alert-danger\">BAD</div>"
   ]
  },
  {
   "cell_type": "code",
   "execution_count": null,
   "id": "b959e478-b4ec-42f1-a87a-db7071ba4c5e",
   "metadata": {},
   "outputs": [],
   "source": [
    "x = [1, 2, 4, 8, 16]\n",
    "for i in range(len(x)):\n",
    "    print(x[i])"
   ]
  },
  {
   "cell_type": "markdown",
   "id": "8d3fc38d-9d20-4652-b844-b60af0f3fc4c",
   "metadata": {},
   "source": [
    "<div class=\"alert-success\">GOOD</div>"
   ]
  },
  {
   "cell_type": "code",
   "execution_count": null,
   "id": "648878d2-975e-41ae-bffd-c256c5301143",
   "metadata": {},
   "outputs": [],
   "source": [
    "x = [1, 2, 4, 8, 16]\n",
    "for xi in x:\n",
    "    print(xi)"
   ]
  },
  {
   "cell_type": "markdown",
   "id": "350dbdfc-e343-4eb9-9b9d-63874ad9d20c",
   "metadata": {},
   "source": [
    "#### Use `enumerate`"
   ]
  },
  {
   "cell_type": "markdown",
   "id": "abd3086d-6cc5-4326-be83-1745392dead3",
   "metadata": {},
   "source": [
    "<div class=\"alert-danger\">BAD</div>"
   ]
  },
  {
   "cell_type": "code",
   "execution_count": null,
   "id": "f2bc8eef-7a0e-4a86-8011-cdf8ec59c81d",
   "metadata": {},
   "outputs": [],
   "source": [
    "for i in range(len(x)):\n",
    "    print(i, x[i])"
   ]
  },
  {
   "cell_type": "markdown",
   "id": "b17718cb-3f89-4917-8cad-4daaa5253255",
   "metadata": {},
   "source": [
    "<div class=\"alert-success\">GOOD</div>"
   ]
  },
  {
   "cell_type": "code",
   "execution_count": null,
   "id": "63ba3822-78aa-4c67-b758-560a69dd06e8",
   "metadata": {},
   "outputs": [],
   "source": [
    "for i, xi in enumerate(x):\n",
    "    print(i, xi)"
   ]
  },
  {
   "cell_type": "markdown",
   "id": "b49d4435-7b1e-4f11-9d75-6fdf3b717ab8",
   "metadata": {},
   "source": [
    "### Write code in the most explicit and straightforward way"
   ]
  },
  {
   "cell_type": "markdown",
   "id": "f0e52f92-f48a-45c2-8757-4b941cf436e6",
   "metadata": {},
   "source": [
    "<div class=\"alert-danger\">BAD</div>"
   ]
  },
  {
   "cell_type": "code",
   "execution_count": null,
   "id": "e6f04c19-f0ad-490e-b365-b6be3cc88724",
   "metadata": {},
   "outputs": [],
   "source": [
    "def make_complex(*args):\n",
    "    x, y = args\n",
    "    return dict(**locals())"
   ]
  },
  {
   "cell_type": "markdown",
   "id": "73fce0c7-cb1c-4499-bc8b-64e99e89abc7",
   "metadata": {},
   "source": [
    "<div class=\"alert-success\">GOOD</div>"
   ]
  },
  {
   "cell_type": "code",
   "execution_count": null,
   "id": "9f9c6f32-3ab0-4fcf-ab86-ea7fb7791632",
   "metadata": {},
   "outputs": [],
   "source": [
    "def make_complex(x, y):\n",
    "    return {\"x\": x, \"y\": y}"
   ]
  },
  {
   "cell_type": "markdown",
   "id": "8b1eb0f9-80cb-4934-b0f9-d892c76202e4",
   "metadata": {},
   "source": [
    "### Avoid superfluous code"
   ]
  },
  {
   "cell_type": "markdown",
   "id": "3e8464a4-680d-4614-9920-803acd386120",
   "metadata": {},
   "source": [
    "<div class=\"alert-success\">BAD</div>"
   ]
  },
  {
   "cell_type": "code",
   "execution_count": null,
   "id": "d9f43df8-221c-41a3-bf30-093699482793",
   "metadata": {},
   "outputs": [],
   "source": [
    "num = 4\n",
    "\n",
    "if num >= 0:\n",
    "    print(True)\n",
    "else:\n",
    "    print(False)"
   ]
  },
  {
   "cell_type": "markdown",
   "id": "39300486-d12e-43dd-9f4d-a75bd8e1d8d6",
   "metadata": {},
   "source": [
    "<div class=\"alert-success\">GOOD</div>"
   ]
  },
  {
   "cell_type": "code",
   "execution_count": null,
   "id": "c173dc69-c061-4336-a209-f2ee20526c7f",
   "metadata": {},
   "outputs": [],
   "source": [
    "print(num >= 0)"
   ]
  },
  {
   "cell_type": "markdown",
   "id": "0503247f-64ab-464c-b257-29a72f15b901",
   "metadata": {},
   "source": [
    "### Use list comprehensions"
   ]
  },
  {
   "cell_type": "markdown",
   "id": "a34bedfe-34b6-4f5d-981c-f39ab0f045ca",
   "metadata": {},
   "source": [
    "<div class=\"alert-danger\">BAD</div>"
   ]
  },
  {
   "cell_type": "code",
   "execution_count": null,
   "id": "79e9a461-0bf5-4565-aa36-1918b2c1b99f",
   "metadata": {},
   "outputs": [],
   "source": [
    "numbers_to_square = list(range(5))\n",
    "square_numbers = []\n",
    "for x in numbers_to_square:\n",
    "    square_numbers.append(x ** 2)\n",
    "square_numbers"
   ]
  },
  {
   "cell_type": "markdown",
   "id": "95620353-4fdc-4aaa-a0c8-9316f912bec0",
   "metadata": {},
   "source": [
    "<div class=\"alert-success\">GOOD</div>"
   ]
  },
  {
   "cell_type": "code",
   "execution_count": null,
   "id": "304ff2ce-2a9a-4880-8fff-2a970ef3005b",
   "metadata": {},
   "outputs": [],
   "source": [
    "# [expression for item in iterable (if conditional)]\n",
    "[x ** 2 for x in range(5)]"
   ]
  },
  {
   "cell_type": "markdown",
   "id": "160ff64d-ce7a-475c-af80-2435c2287e88",
   "metadata": {},
   "source": [
    "### List comprehensions and side effects\n",
    "\n",
    "Never use a list comprehension just for its side effects."
   ]
  },
  {
   "cell_type": "markdown",
   "id": "c84b603c-7ec1-4c0b-ae93-d77b35c7e71a",
   "metadata": {},
   "source": [
    "<div class=\"alert-danger\">BAD</div>"
   ]
  },
  {
   "cell_type": "code",
   "execution_count": null,
   "id": "9b405c9a-d015-4a96-9f33-94c3bff5a984",
   "metadata": {},
   "outputs": [],
   "source": [
    "[print(x) for x in range(5)]"
   ]
  },
  {
   "cell_type": "markdown",
   "id": "bd43af2f-58e2-4034-ac23-f6ea3b303d37",
   "metadata": {},
   "source": [
    "<div class=\"alert-success\">GOOD</div>"
   ]
  },
  {
   "cell_type": "code",
   "execution_count": null,
   "id": "1b7cb641-cd07-4125-af5e-a7c52d085d48",
   "metadata": {},
   "outputs": [],
   "source": [
    "for x in range(5):\n",
    "    print(x)"
   ]
  },
  {
   "cell_type": "markdown",
   "id": "9fdc8e70-fa56-4b86-82db-75839a618176",
   "metadata": {},
   "source": [
    "#### Use `zip`"
   ]
  },
  {
   "cell_type": "markdown",
   "id": "a2dfa3ee-51d9-4933-b60b-009d3388ae0f",
   "metadata": {},
   "source": [
    "<div class=\"alert-danger\">BAD</div>"
   ]
  },
  {
   "cell_type": "code",
   "execution_count": null,
   "id": "69b1747f-cbad-4278-84e2-f244d3ad27a4",
   "metadata": {},
   "outputs": [],
   "source": [
    "x = [1, 2, 4, 8, 16]\n",
    "y = \"abcde\"\n",
    "for i in range(len(x)):\n",
    "    print(x[i], y[i])"
   ]
  },
  {
   "cell_type": "markdown",
   "id": "f4d7e825-49c1-4698-82dc-2618993e6be2",
   "metadata": {},
   "source": [
    "<div class=\"alert-success\">GOOD</div>"
   ]
  },
  {
   "cell_type": "code",
   "execution_count": null,
   "id": "aecfbd3c-4f3c-40a3-b8ec-7cfd3d889e27",
   "metadata": {},
   "outputs": [],
   "source": [
    "for x_item, y_item in zip(x, y):\n",
    "    print(x_item, y_item)"
   ]
  },
  {
   "cell_type": "markdown",
   "id": "7d7ee549-2da9-4814-b4ec-f4b9860efb65",
   "metadata": {},
   "source": [
    "### Using `with`\n",
    "\n",
    "The `with` block means that the special methods `.enter()` and `.exit()` are called, even in the cases of exceptions."
   ]
  },
  {
   "cell_type": "markdown",
   "id": "3c47f08e-22d8-43b9-a3a5-cd8b9cefa379",
   "metadata": {},
   "source": [
    "<div class=\"alert-danger\">BAD</div>"
   ]
  },
  {
   "cell_type": "code",
   "execution_count": null,
   "id": "acb23689-95b9-48dd-9559-f4b3350704dd",
   "metadata": {},
   "outputs": [],
   "source": [
    "my_file = open(\"filename.csv\", \"w\")\n",
    "my_file\n",
    "my_file.close()"
   ]
  },
  {
   "cell_type": "markdown",
   "id": "d09c9322-1065-4a99-bbbf-e5bd8697067b",
   "metadata": {},
   "source": [
    "<div class=\"alert-success\">GOOD</div>"
   ]
  },
  {
   "cell_type": "code",
   "execution_count": null,
   "id": "042ef128-2aa6-49c6-a863-272743da4bd4",
   "metadata": {},
   "outputs": [],
   "source": [
    "with open(\"filename.csv\", \"w\") as my_file:\n",
    "    my_file"
   ]
  },
  {
   "cell_type": "markdown",
   "id": "37f7f9e7-0d79-4843-9f14-7506f815a9fc",
   "metadata": {},
   "source": [
    "### Dictionaries"
   ]
  },
  {
   "cell_type": "markdown",
   "id": "0a9c7589-5caa-4e8b-ba34-acc18a3dc47e",
   "metadata": {},
   "source": [
    "#### Default values"
   ]
  },
  {
   "cell_type": "markdown",
   "id": "835f3282-bf33-4d39-8ee1-307896328a23",
   "metadata": {},
   "source": [
    "<div class=\"alert-danger\">BAD</div>"
   ]
  },
  {
   "cell_type": "code",
   "execution_count": null,
   "id": "2a149d33-a805-4511-bf19-609fb253775c",
   "metadata": {},
   "outputs": [],
   "source": [
    "d = {\"key1\": \"value1\"}\n",
    "\n",
    "if \"key1\" in d:\n",
    "    print(d[\"key1\"])\n",
    "else:\n",
    "    print(\"default_value\")"
   ]
  },
  {
   "cell_type": "markdown",
   "id": "6d0afbec-964f-41b1-989d-eeffb07232c5",
   "metadata": {},
   "source": [
    "<div class=\"alert-success\">GOOD</div>"
   ]
  },
  {
   "cell_type": "code",
   "execution_count": null,
   "id": "e49bc48f-ae10-4610-845a-de53a5741950",
   "metadata": {},
   "outputs": [],
   "source": [
    "d = {\"key1\": \"value1\"}\n",
    "\n",
    "print(d.get(\"key1\", \"default_value\"))\n",
    "print(d.get(\"key2\", \"default_value\"))"
   ]
  },
  {
   "cell_type": "markdown",
   "id": "e10782dd-dc89-4c85-aef5-33707604b681",
   "metadata": {},
   "source": [
    "#### Looping over key, value pairs"
   ]
  },
  {
   "cell_type": "markdown",
   "id": "6a01d44d-f137-4f9a-af74-3a94e81f8331",
   "metadata": {},
   "source": [
    "<div class=\"alert-danger\">BAD</div>"
   ]
  },
  {
   "cell_type": "code",
   "execution_count": null,
   "id": "571f166f-59ba-4580-a302-21c241361d51",
   "metadata": {},
   "outputs": [],
   "source": [
    "z = {\"a\": 0, \"b\": 1}\n",
    "for k in z:\n",
    "    print(k, z[k])"
   ]
  },
  {
   "cell_type": "markdown",
   "id": "129a90b9-2956-4e6a-9524-c09e11b931c7",
   "metadata": {},
   "source": [
    "<div class=\"alert-success\">GOOD</div>"
   ]
  },
  {
   "cell_type": "code",
   "execution_count": null,
   "id": "b1b0cafb-517f-4e02-9263-f2fc52662911",
   "metadata": {},
   "outputs": [],
   "source": [
    "for k, v in z.items():\n",
    "    print(k, v)"
   ]
  },
  {
   "cell_type": "markdown",
   "id": "55ba9bfa-c132-4cc9-93c9-ce61091f896a",
   "metadata": {},
   "source": [
    "### Additional Resources\n",
    "\n",
    "- [python.org](https://www.python.org/)\n",
    "- [realpython.com](https://www.realpython.com/)\n",
    "- [python.org/dev/peps](https://www.python.org/dev/peps/)\n",
    "- https://docs.python-guide.org/writing/style/ (basis for some examples in this notebook)\n",
    "- https://towardsdatascience.com/the-ultimate-guide-to-writing-better-python-code-1362a1209e5a (basis for some examples in this notebook)\n",
    "- Python Crash Course\n",
    "- Python Tricks: A Buffet of Awesome Python Features\n",
    "- Fluent Python: Clear, Concise, and Effective Programming\n",
    "- Python Cookbook\n",
    "- ..."
   ]
  }
 ],
 "metadata": {
  "kernelspec": {
   "display_name": "Python 3",
   "language": "python",
   "name": "python3"
  },
  "language_info": {
   "codemirror_mode": {
    "name": "ipython",
    "version": 3
   },
   "file_extension": ".py",
   "mimetype": "text/x-python",
   "name": "python",
   "nbconvert_exporter": "python",
   "pygments_lexer": "ipython3",
   "version": "3.8.2"
  }
 },
 "nbformat": 4,
 "nbformat_minor": 5
}
