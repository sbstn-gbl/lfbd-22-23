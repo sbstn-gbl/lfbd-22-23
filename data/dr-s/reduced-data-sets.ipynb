{
 "cells": [
  {
   "cell_type": "code",
   "execution_count": 14,
   "id": "adf0a6c5-c85a-4296-be38-35bf94caad5c",
   "metadata": {},
   "outputs": [],
   "source": [
    "import pandas as pd"
   ]
  },
  {
   "cell_type": "code",
   "execution_count": 15,
   "id": "347c4161-937d-42fd-a542-da0d91697a31",
   "metadata": {},
   "outputs": [],
   "source": [
    "path = \"/Users/sbstn/Dropbox_RSM/teaching/big-data-22/data/dr-s\""
   ]
  },
  {
   "cell_type": "code",
   "execution_count": 16,
   "id": "76a76a47-b69e-4428-98d3-ee7735f14eec",
   "metadata": {},
   "outputs": [],
   "source": [
    "coupons = pd.read_parquet(f\"{path}/raw/coupons.parquet\")\n",
    "baskets = pd.read_parquet(f\"{path}/raw/baskets.parquet\")\n",
    "prediction_index = pd.read_parquet(f\"{path}/raw/prediction_index.parquet\")"
   ]
  },
  {
   "cell_type": "code",
   "execution_count": null,
   "id": "c64bbafa-2bf7-4e7d-96ec-3cef4e3dad3a",
   "metadata": {},
   "outputs": [],
   "source": []
  },
  {
   "cell_type": "code",
   "execution_count": 17,
   "id": "113edd63-c98f-4a41-b051-67091e6979aa",
   "metadata": {},
   "outputs": [],
   "source": [
    "coupons_s = coupons[coupons[\"customer\"] < 2000]\n",
    "baskets_s = baskets[baskets[\"customer\"] < 2000]"
   ]
  },
  {
   "cell_type": "code",
   "execution_count": null,
   "id": "a7c84384-cd46-488d-8c87-d034bf170186",
   "metadata": {},
   "outputs": [],
   "source": []
  },
  {
   "cell_type": "code",
   "execution_count": 18,
   "id": "11c6112d-5921-49d6-a1e7-cbb959f334b4",
   "metadata": {},
   "outputs": [],
   "source": [
    "coupons_m = coupons[coupons[\"customer\"] < 10000]\n",
    "baskets_m = baskets[baskets[\"customer\"] < 10000]"
   ]
  },
  {
   "cell_type": "code",
   "execution_count": null,
   "id": "c7167056-85d2-4c23-bdf7-d152d6ada134",
   "metadata": {},
   "outputs": [],
   "source": []
  },
  {
   "cell_type": "code",
   "execution_count": 20,
   "id": "cefaceda-7548-481a-b7dc-380026c6dd2e",
   "metadata": {},
   "outputs": [],
   "source": [
    "coupons_l = coupons\n",
    "baskets_l = baskets"
   ]
  },
  {
   "cell_type": "code",
   "execution_count": null,
   "id": "76f545d8-e27e-4838-b70d-409dc945f158",
   "metadata": {},
   "outputs": [],
   "source": []
  },
  {
   "cell_type": "code",
   "execution_count": 21,
   "id": "17666a3d-e77c-49ac-a6a7-d63ef76071b0",
   "metadata": {},
   "outputs": [],
   "source": [
    "coupons_s.to_parquet(f\"{path}/upload/coupons-s.parquet\")\n",
    "baskets_s.to_parquet(f\"{path}/upload/baskets-s.parquet\")"
   ]
  },
  {
   "cell_type": "code",
   "execution_count": 22,
   "id": "665966f8-2d8b-4216-bb48-90e3059b4cee",
   "metadata": {},
   "outputs": [],
   "source": [
    "coupons_m.to_parquet(f\"{path}/upload/coupons-m.parquet\")\n",
    "baskets_m.to_parquet(f\"{path}/upload/baskets-m.parquet\")"
   ]
  },
  {
   "cell_type": "code",
   "execution_count": 23,
   "id": "c76e5324-72ff-468f-be90-c41d8e1e2c29",
   "metadata": {},
   "outputs": [],
   "source": [
    "coupons_l.to_parquet(f\"{path}/upload/coupons-l.parquet\")\n",
    "baskets_l.to_parquet(f\"{path}/upload/baskets-l.parquet\")"
   ]
  },
  {
   "cell_type": "code",
   "execution_count": null,
   "id": "2ed794f6-074b-41cc-bbbf-fdd43bee9f98",
   "metadata": {},
   "outputs": [],
   "source": []
  }
 ],
 "metadata": {
  "kernelspec": {
   "display_name": "Python 3 (ipykernel)",
   "language": "python",
   "name": "python3"
  },
  "language_info": {
   "codemirror_mode": {
    "name": "ipython",
    "version": 3
   },
   "file_extension": ".py",
   "mimetype": "text/x-python",
   "name": "python",
   "nbconvert_exporter": "python",
   "pygments_lexer": "ipython3",
   "version": "3.8.9"
  }
 },
 "nbformat": 4,
 "nbformat_minor": 5
}
